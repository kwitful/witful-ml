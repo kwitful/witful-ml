{
 "cells": [
  {
   "cell_type": "markdown",
   "id": "cb0e3846",
   "metadata": {},
   "source": [
    "# Witful ML 03 -  Linear Regression \n",
    "by Kaan Kabalak, Editor In Chief @ witfuldata.com"
   ]
  },
  {
   "cell_type": "markdown",
   "id": "edab943f",
   "metadata": {},
   "source": [
    "# Introduction"
   ]
  },
  {
   "cell_type": "markdown",
   "id": "72ff46a3",
   "metadata": {},
   "source": [
    "Welcome to another chapter of the Witful ML series. In this chapter we will use a linear model that uses data from multiple columns (instead of just one) to predict the target variable's values. \n",
    "\n",
    "Let's begin!"
   ]
  },
  {
   "cell_type": "markdown",
   "id": "c04ffb1f",
   "metadata": {},
   "source": [
    "## Importing & Data Frame"
   ]
  },
  {
   "cell_type": "code",
   "execution_count": 1,
   "id": "78834ced",
   "metadata": {},
   "outputs": [],
   "source": [
    "#Importing\n",
    "import numpy as np\n",
    "import matplotlib.pyplot as plt\n",
    "import pandas as pd\n",
    "import seaborn as sns\n",
    "from sklearn.linear_model import LinearRegression"
   ]
  },
  {
   "cell_type": "code",
   "execution_count": 2,
   "id": "429dac99",
   "metadata": {},
   "outputs": [
    {
     "data": {
      "text/html": [
       "<div>\n",
       "<style scoped>\n",
       "    .dataframe tbody tr th:only-of-type {\n",
       "        vertical-align: middle;\n",
       "    }\n",
       "\n",
       "    .dataframe tbody tr th {\n",
       "        vertical-align: top;\n",
       "    }\n",
       "\n",
       "    .dataframe thead th {\n",
       "        text-align: right;\n",
       "    }\n",
       "</style>\n",
       "<table border=\"1\" class=\"dataframe\">\n",
       "  <thead>\n",
       "    <tr style=\"text-align: right;\">\n",
       "      <th></th>\n",
       "      <th>mpg</th>\n",
       "      <th>displ</th>\n",
       "      <th>hp</th>\n",
       "      <th>weight</th>\n",
       "      <th>accel</th>\n",
       "      <th>origin</th>\n",
       "      <th>size</th>\n",
       "    </tr>\n",
       "  </thead>\n",
       "  <tbody>\n",
       "    <tr>\n",
       "      <th>0</th>\n",
       "      <td>18.0</td>\n",
       "      <td>250.0</td>\n",
       "      <td>88</td>\n",
       "      <td>3139</td>\n",
       "      <td>14.5</td>\n",
       "      <td>US</td>\n",
       "      <td>15.0</td>\n",
       "    </tr>\n",
       "    <tr>\n",
       "      <th>1</th>\n",
       "      <td>9.0</td>\n",
       "      <td>304.0</td>\n",
       "      <td>193</td>\n",
       "      <td>4732</td>\n",
       "      <td>18.5</td>\n",
       "      <td>US</td>\n",
       "      <td>20.0</td>\n",
       "    </tr>\n",
       "    <tr>\n",
       "      <th>2</th>\n",
       "      <td>36.1</td>\n",
       "      <td>91.0</td>\n",
       "      <td>60</td>\n",
       "      <td>1800</td>\n",
       "      <td>16.4</td>\n",
       "      <td>Asia</td>\n",
       "      <td>10.0</td>\n",
       "    </tr>\n",
       "    <tr>\n",
       "      <th>3</th>\n",
       "      <td>18.5</td>\n",
       "      <td>250.0</td>\n",
       "      <td>98</td>\n",
       "      <td>3525</td>\n",
       "      <td>19.0</td>\n",
       "      <td>US</td>\n",
       "      <td>15.0</td>\n",
       "    </tr>\n",
       "    <tr>\n",
       "      <th>4</th>\n",
       "      <td>34.3</td>\n",
       "      <td>97.0</td>\n",
       "      <td>78</td>\n",
       "      <td>2188</td>\n",
       "      <td>15.8</td>\n",
       "      <td>Europe</td>\n",
       "      <td>10.0</td>\n",
       "    </tr>\n",
       "  </tbody>\n",
       "</table>\n",
       "</div>"
      ],
      "text/plain": [
       "    mpg  displ   hp  weight  accel  origin  size\n",
       "0  18.0  250.0   88    3139   14.5      US  15.0\n",
       "1   9.0  304.0  193    4732   18.5      US  20.0\n",
       "2  36.1   91.0   60    1800   16.4    Asia  10.0\n",
       "3  18.5  250.0   98    3525   19.0      US  15.0\n",
       "4  34.3   97.0   78    2188   15.8  Europe  10.0"
      ]
     },
     "execution_count": 2,
     "metadata": {},
     "output_type": "execute_result"
    }
   ],
   "source": [
    "auto_df = pd.read_csv('auto.csv')\n",
    "auto_df.head(5)"
   ]
  },
  {
   "cell_type": "markdown",
   "id": "5d89ee33",
   "metadata": {},
   "source": [
    "#  Linear Regression"
   ]
  },
  {
   "cell_type": "markdown",
   "id": "3bad767e",
   "metadata": {},
   "source": [
    "What is linear regression and what makes it different from simple linear regression?\n",
    "\n",
    "Simple linear regression and linear regression are actually the same thing. What makes simple LR different is that it takes only one X variable. That's it. The linear regression model we are going to use today will take multiple X variables. To predict the target variable (y), we will use data from multiple columns.\n",
    "\n",
    "For this chapter we will use data from other columns to predict miles per gallon (mpg) performance.\n"
   ]
  },
  {
   "cell_type": "markdown",
   "id": "32887eaf",
   "metadata": {},
   "source": [
    "## Determining the X and y"
   ]
  },
  {
   "cell_type": "markdown",
   "id": "077e0405",
   "metadata": {},
   "source": [
    "As we are going to use more than just one column for X, there is no need to reshape like we did in Simple Linear Regression chapter. Also, if we are going to use all the columns except y (and the column with string values, 'origin'), we can just assign our whole data values to X by simply dropping y(mpg) and the 'origin' column. Like this:"
   ]
  },
  {
   "cell_type": "code",
   "execution_count": 3,
   "id": "e8b1552d",
   "metadata": {},
   "outputs": [],
   "source": [
    "#X values\n",
    "X = auto_df.drop(['origin','mpg'],axis=1).values\n",
    "\n",
    "#y values\n",
    "y = auto_df[\"mpg\"].values"
   ]
  },
  {
   "cell_type": "markdown",
   "id": "e59c3a13",
   "metadata": {},
   "source": [
    "## Instantiating and fitting"
   ]
  },
  {
   "cell_type": "code",
   "execution_count": 4,
   "id": "98573e0d",
   "metadata": {},
   "outputs": [
    {
     "data": {
      "text/plain": [
       "LinearRegression()"
      ]
     },
     "execution_count": 4,
     "metadata": {},
     "output_type": "execute_result"
    }
   ],
   "source": [
    "#Instantiating the model\n",
    "lin_model = LinearRegression()\n",
    "\n",
    "#Fitting\n",
    "lin_model.fit(X,y)"
   ]
  },
  {
   "cell_type": "markdown",
   "id": "fd7c2892",
   "metadata": {},
   "source": [
    "## Making predictions"
   ]
  },
  {
   "cell_type": "code",
   "execution_count": 5,
   "id": "d07524eb",
   "metadata": {},
   "outputs": [],
   "source": [
    "#Predict\n",
    "lin_pred = lin_model.predict(X)"
   ]
  },
  {
   "cell_type": "markdown",
   "id": "ee89c1c1",
   "metadata": {},
   "source": [
    "Let's compare these predictions to real values through a data frame, just like we did in the last chapter."
   ]
  },
  {
   "cell_type": "code",
   "execution_count": 6,
   "id": "cacfd5f8",
   "metadata": {},
   "outputs": [
    {
     "data": {
      "text/html": [
       "<div>\n",
       "<style scoped>\n",
       "    .dataframe tbody tr th:only-of-type {\n",
       "        vertical-align: middle;\n",
       "    }\n",
       "\n",
       "    .dataframe tbody tr th {\n",
       "        vertical-align: top;\n",
       "    }\n",
       "\n",
       "    .dataframe thead th {\n",
       "        text-align: right;\n",
       "    }\n",
       "</style>\n",
       "<table border=\"1\" class=\"dataframe\">\n",
       "  <thead>\n",
       "    <tr style=\"text-align: right;\">\n",
       "      <th></th>\n",
       "      <th>Predicted_Values</th>\n",
       "      <th>Real_Values</th>\n",
       "    </tr>\n",
       "  </thead>\n",
       "  <tbody>\n",
       "    <tr>\n",
       "      <th>0</th>\n",
       "      <td>23.169580</td>\n",
       "      <td>18.0</td>\n",
       "    </tr>\n",
       "    <tr>\n",
       "      <th>1</th>\n",
       "      <td>9.238063</td>\n",
       "      <td>9.0</td>\n",
       "    </tr>\n",
       "    <tr>\n",
       "      <th>2</th>\n",
       "      <td>32.135836</td>\n",
       "      <td>36.1</td>\n",
       "    </tr>\n",
       "    <tr>\n",
       "      <th>3</th>\n",
       "      <td>20.583888</td>\n",
       "      <td>18.5</td>\n",
       "    </tr>\n",
       "    <tr>\n",
       "      <th>4</th>\n",
       "      <td>29.325649</td>\n",
       "      <td>34.3</td>\n",
       "    </tr>\n",
       "    <tr>\n",
       "      <th>5</th>\n",
       "      <td>26.142455</td>\n",
       "      <td>32.9</td>\n",
       "    </tr>\n",
       "    <tr>\n",
       "      <th>6</th>\n",
       "      <td>29.078576</td>\n",
       "      <td>32.2</td>\n",
       "    </tr>\n",
       "    <tr>\n",
       "      <th>7</th>\n",
       "      <td>27.674763</td>\n",
       "      <td>22.0</td>\n",
       "    </tr>\n",
       "    <tr>\n",
       "      <th>8</th>\n",
       "      <td>14.460885</td>\n",
       "      <td>15.0</td>\n",
       "    </tr>\n",
       "    <tr>\n",
       "      <th>9</th>\n",
       "      <td>18.524507</td>\n",
       "      <td>17.0</td>\n",
       "    </tr>\n",
       "  </tbody>\n",
       "</table>\n",
       "</div>"
      ],
      "text/plain": [
       "   Predicted_Values  Real_Values\n",
       "0         23.169580         18.0\n",
       "1          9.238063          9.0\n",
       "2         32.135836         36.1\n",
       "3         20.583888         18.5\n",
       "4         29.325649         34.3\n",
       "5         26.142455         32.9\n",
       "6         29.078576         32.2\n",
       "7         27.674763         22.0\n",
       "8         14.460885         15.0\n",
       "9         18.524507         17.0"
      ]
     },
     "execution_count": 6,
     "metadata": {},
     "output_type": "execute_result"
    }
   ],
   "source": [
    "comparison_one = pd.DataFrame({\"Predicted_Values\":lin_pred,\"Real_Values\":y})\n",
    "comparison_one.head(10)"
   ]
  },
  {
   "cell_type": "markdown",
   "id": "70dba7ca",
   "metadata": {},
   "source": [
    "Let's visualize this result with a scatter plot to see how far our model strayed away from reality."
   ]
  },
  {
   "cell_type": "code",
   "execution_count": 7,
   "id": "2eb839c0",
   "metadata": {
    "scrolled": true
   },
   "outputs": [
    {
     "data": {
      "image/png": "[encoded data removed]",
      "text/plain": [
       "<Figure size 432x288 with 1 Axes>"
      ]
     },
     "metadata": {
      "needs_background": "light"
     },
     "output_type": "display_data"
    }
   ],
   "source": [
    "#Visualizing the result\n",
    "sns.scatterplot(x=\"Predicted_Values\",y=\"Real_Values\",data=comparison_one,ci=None)\n",
    "plt.show()"
   ]
  },
  {
   "cell_type": "markdown",
   "id": "66845032",
   "metadata": {},
   "source": [
    "This is a nice result. The data points are close to each other. The predicted values did not stray too far away from the real values."
   ]
  },
  {
   "cell_type": "markdown",
   "id": "69010f1f",
   "metadata": {},
   "source": [
    "# What's next?\n",
    "So far we have tried to see how well the model performed on predictions by ourselves, but there are actually mathematical metrics for evaluating different aspects of model performance. In the next chapter, we will focus on model evaluation for linear regression models. "
   ]
  }
 ],
 "metadata": {
  "kernelspec": {
   "display_name": "Python 3 (ipykernel)",
   "language": "python",
   "name": "python3"
  },
  "language_info": {
   "codemirror_mode": {
    "name": "ipython",
    "version": 3
   },
   "file_extension": ".py",
   "mimetype": "text/x-python",
   "name": "python",
   "nbconvert_exporter": "python",
   "pygments_lexer": "ipython3",
   "version": "3.9.12"
  }
 },
 "nbformat": 4,
 "nbformat_minor": 5
}
