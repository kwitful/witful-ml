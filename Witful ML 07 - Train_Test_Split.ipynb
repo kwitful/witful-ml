{
 "cells": [
  {
   "cell_type": "markdown",
   "id": "381f49a9",
   "metadata": {},
   "source": [
    "# Witful ML 07 - Train-Test Split\n",
    "by Kaan Kabalak, Editor In Chief @ witfuldata.com"
   ]
  },
  {
   "cell_type": "markdown",
   "id": "0f0c56cd",
   "metadata": {},
   "source": [
    "# What is train_test split and why is it necessary?"
   ]
  },
  {
   "cell_type": "markdown",
   "id": "4da32ea2",
   "metadata": {},
   "source": [
    "The main goal of most machine learning models is to carry out predictions based on data. In real implementations, ML models are expected work with data which is completely new to them. They are trained with a certain amount of data, but make their predictions based on completely new data. Actually we have two options and this presents a dilemma:\n",
    "\n",
    "- We train/fit the model with the data we have. The model adjusts its algorithm accordingly and it fine-tunes everything for that dataset. This makes the model super efficient on that particular dataset but makes it unreliable when it is used on new data. This is beacause the model has 'learned' everything on a single dataset. It fails to function when it meets the different patterns in the new data (This is called 'Overfitting')\n",
    "\n",
    "\n",
    "- We train/fit the model with very little data to avoid this overfitting issue. This will also make the model inefficient as it won't have access to the amount it needs to adjust its algorithm. (This is called 'Underfitting')\n",
    "\n",
    "To ensure that our models learn enough and perform well on new data, we must set a balance between how they are trained on existing data and how they are tested with new data.\n",
    "\n",
    "But wait! How can we do this if we have no new data? How can we produce new data when all we have is a single dataset?\n",
    "\n",
    "Train_test split is here to help! It splits our data set, trains the model with a part of it and reserves the rest, never showing it to our model. This way, it helps us see how our model would perform on brand new data. \n",
    "\n",
    "Let's see how it is all done on Python with scikitlearn"
   ]
  },
  {
   "cell_type": "code",
   "execution_count": 1,
   "id": "4da0a883",
   "metadata": {},
   "outputs": [],
   "source": [
    "#Import\n",
    "import numpy as np\n",
    "import matplotlib.pyplot as plt\n",
    "import pandas as pd\n",
    "from sklearn.neighbors import KNeighborsClassifier\n",
    "from sklearn.linear_model import LinearRegression\n",
    "from sklearn.model_selection import train_test_split\n",
    "from sklearn.metrics import accuracy_score"
   ]
  },
  {
   "cell_type": "code",
   "execution_count": 2,
   "id": "6fd52c1c",
   "metadata": {},
   "outputs": [
    {
     "data": {
      "text/html": [
       "<div>\n",
       "<style scoped>\n",
       "    .dataframe tbody tr th:only-of-type {\n",
       "        vertical-align: middle;\n",
       "    }\n",
       "\n",
       "    .dataframe tbody tr th {\n",
       "        vertical-align: top;\n",
       "    }\n",
       "\n",
       "    .dataframe thead th {\n",
       "        text-align: right;\n",
       "    }\n",
       "</style>\n",
       "<table border=\"1\" class=\"dataframe\">\n",
       "  <thead>\n",
       "    <tr style=\"text-align: right;\">\n",
       "      <th></th>\n",
       "      <th>Pregnancies</th>\n",
       "      <th>Glucose</th>\n",
       "      <th>BloodPressure</th>\n",
       "      <th>SkinThickness</th>\n",
       "      <th>Insulin</th>\n",
       "      <th>BMI</th>\n",
       "      <th>DiabetesPedigreeFunction</th>\n",
       "      <th>Age</th>\n",
       "      <th>Outcome</th>\n",
       "    </tr>\n",
       "  </thead>\n",
       "  <tbody>\n",
       "    <tr>\n",
       "      <th>0</th>\n",
       "      <td>6.0</td>\n",
       "      <td>148.0</td>\n",
       "      <td>72.0</td>\n",
       "      <td>35.0</td>\n",
       "      <td>0.0</td>\n",
       "      <td>33.6</td>\n",
       "      <td>0.627</td>\n",
       "      <td>50.0</td>\n",
       "      <td>1.0</td>\n",
       "    </tr>\n",
       "    <tr>\n",
       "      <th>1</th>\n",
       "      <td>1.0</td>\n",
       "      <td>85.0</td>\n",
       "      <td>66.0</td>\n",
       "      <td>29.0</td>\n",
       "      <td>0.0</td>\n",
       "      <td>26.6</td>\n",
       "      <td>0.351</td>\n",
       "      <td>31.0</td>\n",
       "      <td>0.0</td>\n",
       "    </tr>\n",
       "    <tr>\n",
       "      <th>2</th>\n",
       "      <td>8.0</td>\n",
       "      <td>183.0</td>\n",
       "      <td>64.0</td>\n",
       "      <td>0.0</td>\n",
       "      <td>0.0</td>\n",
       "      <td>23.3</td>\n",
       "      <td>0.672</td>\n",
       "      <td>32.0</td>\n",
       "      <td>1.0</td>\n",
       "    </tr>\n",
       "    <tr>\n",
       "      <th>3</th>\n",
       "      <td>1.0</td>\n",
       "      <td>89.0</td>\n",
       "      <td>66.0</td>\n",
       "      <td>23.0</td>\n",
       "      <td>94.0</td>\n",
       "      <td>28.1</td>\n",
       "      <td>0.167</td>\n",
       "      <td>21.0</td>\n",
       "      <td>0.0</td>\n",
       "    </tr>\n",
       "    <tr>\n",
       "      <th>4</th>\n",
       "      <td>0.0</td>\n",
       "      <td>137.0</td>\n",
       "      <td>40.0</td>\n",
       "      <td>35.0</td>\n",
       "      <td>168.0</td>\n",
       "      <td>43.1</td>\n",
       "      <td>2.288</td>\n",
       "      <td>33.0</td>\n",
       "      <td>1.0</td>\n",
       "    </tr>\n",
       "  </tbody>\n",
       "</table>\n",
       "</div>"
      ],
      "text/plain": [
       "   Pregnancies  Glucose  BloodPressure  SkinThickness  Insulin   BMI  \\\n",
       "0          6.0    148.0           72.0           35.0      0.0  33.6   \n",
       "1          1.0     85.0           66.0           29.0      0.0  26.6   \n",
       "2          8.0    183.0           64.0            0.0      0.0  23.3   \n",
       "3          1.0     89.0           66.0           23.0     94.0  28.1   \n",
       "4          0.0    137.0           40.0           35.0    168.0  43.1   \n",
       "\n",
       "   DiabetesPedigreeFunction   Age  Outcome  \n",
       "0                     0.627  50.0      1.0  \n",
       "1                     0.351  31.0      0.0  \n",
       "2                     0.672  32.0      1.0  \n",
       "3                     0.167  21.0      0.0  \n",
       "4                     2.288  33.0      1.0  "
      ]
     },
     "execution_count": 2,
     "metadata": {},
     "output_type": "execute_result"
    }
   ],
   "source": [
    "#Data frame\n",
    "diabetes_df = pd.read_csv(\"diabetes.csv\")\n",
    "diabetes_df = diabetes_df.astype(float)\n",
    "diabetes_df.head(5)"
   ]
  },
  {
   "cell_type": "markdown",
   "id": "3c9f518a",
   "metadata": {},
   "source": [
    "## Without the split"
   ]
  },
  {
   "cell_type": "code",
   "execution_count": 3,
   "id": "5e3c660d",
   "metadata": {},
   "outputs": [],
   "source": [
    "#X-y variables\n",
    "X = diabetes_df.drop(\"Outcome\",axis=1).values\n",
    "y = diabetes_df[\"Outcome\"].values"
   ]
  },
  {
   "cell_type": "code",
   "execution_count": 4,
   "id": "04af15d3",
   "metadata": {},
   "outputs": [],
   "source": [
    "#Insantiate\n",
    "k_model = KNeighborsClassifier(n_neighbors=3)\n",
    "\n",
    "#Fit\n",
    "k_model.fit (X,y)\n",
    "\n",
    "#Predict\n",
    "k_predictions = k_model.predict(X)\n",
    "\n",
    "#Score\n",
    "non_split_score = accuracy_score(k_predictions,y)"
   ]
  },
  {
   "cell_type": "markdown",
   "id": "2050342c",
   "metadata": {},
   "source": [
    "## With the split"
   ]
  },
  {
   "cell_type": "code",
   "execution_count": 5,
   "id": "2370b702",
   "metadata": {},
   "outputs": [],
   "source": [
    "#Train_test_split\n",
    "X_train, X_test, y_train, y_test = train_test_split(X,y,test_size=0.2,stratify=y,random_state=3,)"
   ]
  },
  {
   "cell_type": "markdown",
   "id": "34edaa76",
   "metadata": {},
   "source": [
    "#### test_size\n",
    "\n",
    "It determines the percentage of the data which will be kept out of model training and will be reserved for testing. Here, 0.2 means that %20 of that will be reserved as the test set.\n",
    "\n",
    "#### stratify\n",
    "If there is an imbalance between the classes (more positives than negatives or more negatives than positives) you should use stratify to ensure that it won't affect the split in a negative manner. \n",
    "\n",
    "\n",
    "#### random_state\n",
    "\n",
    "Random state is not that important if you are going to use the split dataset only once. It becomes important when the same split will be used several times for different models. It ensures that the split will shuffle the dataset in a certain way and will produce the same results. For example, if you want to use the same dataset on different models, you would need to do train_test split with the same shuffle (random_state)."
   ]
  },
  {
   "cell_type": "code",
   "execution_count": 6,
   "id": "87beafc8",
   "metadata": {},
   "outputs": [],
   "source": [
    "#Instantiate the model\n",
    "k_model_split = KNeighborsClassifier (n_neighbors=3)\n",
    "\n",
    "#Fit the model with the training set\n",
    "k_model_split.fit(X_train,y_train)\n",
    "\n",
    "#Predict\n",
    "k_predictions_split = k_model.predict(X_test)"
   ]
  },
  {
   "cell_type": "code",
   "execution_count": 7,
   "id": "3ba702d8",
   "metadata": {},
   "outputs": [],
   "source": [
    "#Score\n",
    "split_score = accuracy_score(k_predictions_split,y_test)"
   ]
  },
  {
   "cell_type": "code",
   "execution_count": 8,
   "id": "8614f6e0",
   "metadata": {},
   "outputs": [
    {
     "data": {
      "text/plain": [
       "0.0022321428571429047"
      ]
     },
     "execution_count": 8,
     "metadata": {},
     "output_type": "execute_result"
    }
   ],
   "source": [
    "#The difference between scores\n",
    "non_split_score - split_score"
   ]
  },
  {
   "cell_type": "markdown",
   "id": "caeab8c0",
   "metadata": {},
   "source": [
    "The difference may seem unimportant, but bear in mind that on even the smallest differences matter in large scale projects. "
   ]
  }
 ],
 "metadata": {
  "kernelspec": {
   "display_name": "Python 3 (ipykernel)",
   "language": "python",
   "name": "python3"
  },
  "language_info": {
   "codemirror_mode": {
    "name": "ipython",
    "version": 3
   },
   "file_extension": ".py",
   "mimetype": "text/x-python",
   "name": "python",
   "nbconvert_exporter": "python",
   "pygments_lexer": "ipython3",
   "version": "3.9.12"
  }
 },
 "nbformat": 4,
 "nbformat_minor": 5
}
