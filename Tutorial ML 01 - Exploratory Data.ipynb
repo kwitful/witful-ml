{
 "cells": [
  {
   "cell_type": "markdown",
   "id": "bdded276",
   "metadata": {},
   "source": [
    "# Witful ML 01 - Exploratory Data Analysis for Linear Regression Models\n",
    "by Kaan Kabalak, Editor In Chief @ witfuldata.com"
   ]
  },
  {
   "cell_type": "markdown",
   "id": "507c671c",
   "metadata": {},
   "source": [
    "# Introduction"
   ]
  },
  {
   "cell_type": "markdown",
   "id": "51176267",
   "metadata": {},
   "source": [
    "Is machine learning something that only super smart people and math professors understand? Or is it something clearly exlainable and enjoyable? Let's find the answer together.\n",
    "\n",
    "Welcome to the first chapter of a step-by-step machine learning tutorial series on Witful Data. The series will include tutorials on regression, classification and ensemble algorithms. Plus, essential processes like model evaluation and data preprocessing will also be included. \n",
    "\n",
    "My aim to is to keep everything accessible for everyone. This work will have reached its aim if everyone who has read it learned something on some level. \n",
    "\n",
    "\n",
    "\n",
    "This tutorial assumes that the reader knows the fundamentals of:<br>\n",
    "* NumPy\n",
    "* Matplotlib\n",
    "* Pandas\n",
    "* Seaborn\n"
   ]
  },
  {
   "cell_type": "markdown",
   "id": "db7376f1",
   "metadata": {},
   "source": [
    "## Importing"
   ]
  },
  {
   "cell_type": "code",
   "execution_count": 1,
   "id": "12bbc3ef",
   "metadata": {},
   "outputs": [],
   "source": [
    "#Importing\n",
    "import numpy as np\n",
    "import matplotlib.pyplot as plt\n",
    "import pandas as pd\n",
    "import seaborn as sns"
   ]
  },
  {
   "cell_type": "markdown",
   "id": "a06e051c",
   "metadata": {},
   "source": [
    "# Exploratory Data Analysis (EDA)"
   ]
  },
  {
   "cell_type": "markdown",
   "id": "b61bee29",
   "metadata": {},
   "source": [
    "Exploratory Data Analysisis a multi-staged process through which we aim to determine the quality and validity of the insights we can gain from our analysis. While there are no \"rules\" about it, it is a beneficial practice to go through the steps of EDA before initiating any other form of data analysis or modeling process. EDA is carried out by following these steps:\n",
    "\n",
    "* Loading and checking the dataset\n",
    "* Checking the shape and the data types of the dataset\n",
    "* Checking the dataset for missing values\n",
    "* Observing descriptive statistical values for preliminary insights\n",
    "* Visualizing the data\n",
    "\n",
    "There are various EDA implementations. How these steps are to be carried out depend on the task at hand. In this case, I will explain how and why we will use EDA for this specific machine learning task."
   ]
  },
  {
   "cell_type": "markdown",
   "id": "8d2e8682",
   "metadata": {},
   "source": [
    "## Loading and checking the dataset"
   ]
  },
  {
   "cell_type": "markdown",
   "id": "69dc09c0",
   "metadata": {},
   "source": [
    "Source: The dataset is a modified version of \n",
    "https://www.kaggle.com/datasets/uciml/autompg-dataset by UCI Machine Learning Repository"
   ]
  },
  {
   "cell_type": "markdown",
   "id": "0de91fdf",
   "metadata": {},
   "source": [
    "We first load the dataset into a dataframe."
   ]
  },
  {
   "cell_type": "code",
   "execution_count": 2,
   "id": "7d2172ba",
   "metadata": {},
   "outputs": [],
   "source": [
    "#loading the dataset into a data frame\n",
    "auto_df = pd.read_csv(\"auto.csv\")"
   ]
  },
  {
   "cell_type": "markdown",
   "id": "7329d5c4",
   "metadata": {},
   "source": [
    "We then check the first and the last 5 rows of the data frame. This step will allow use to see if the dataset has been loaded as we have expected."
   ]
  },
  {
   "cell_type": "code",
   "execution_count": 3,
   "id": "d3c10428",
   "metadata": {},
   "outputs": [
    {
     "data": {
      "text/html": [
       "<div>\n",
       "<style scoped>\n",
       "    .dataframe tbody tr th:only-of-type {\n",
       "        vertical-align: middle;\n",
       "    }\n",
       "\n",
       "    .dataframe tbody tr th {\n",
       "        vertical-align: top;\n",
       "    }\n",
       "\n",
       "    .dataframe thead th {\n",
       "        text-align: right;\n",
       "    }\n",
       "</style>\n",
       "<table border=\"1\" class=\"dataframe\">\n",
       "  <thead>\n",
       "    <tr style=\"text-align: right;\">\n",
       "      <th></th>\n",
       "      <th>mpg</th>\n",
       "      <th>displ</th>\n",
       "      <th>hp</th>\n",
       "      <th>weight</th>\n",
       "      <th>accel</th>\n",
       "      <th>origin</th>\n",
       "      <th>size</th>\n",
       "    </tr>\n",
       "  </thead>\n",
       "  <tbody>\n",
       "    <tr>\n",
       "      <th>0</th>\n",
       "      <td>18.0</td>\n",
       "      <td>250.0</td>\n",
       "      <td>88</td>\n",
       "      <td>3139</td>\n",
       "      <td>14.5</td>\n",
       "      <td>US</td>\n",
       "      <td>15.0</td>\n",
       "    </tr>\n",
       "    <tr>\n",
       "      <th>1</th>\n",
       "      <td>9.0</td>\n",
       "      <td>304.0</td>\n",
       "      <td>193</td>\n",
       "      <td>4732</td>\n",
       "      <td>18.5</td>\n",
       "      <td>US</td>\n",
       "      <td>20.0</td>\n",
       "    </tr>\n",
       "    <tr>\n",
       "      <th>2</th>\n",
       "      <td>36.1</td>\n",
       "      <td>91.0</td>\n",
       "      <td>60</td>\n",
       "      <td>1800</td>\n",
       "      <td>16.4</td>\n",
       "      <td>Asia</td>\n",
       "      <td>10.0</td>\n",
       "    </tr>\n",
       "    <tr>\n",
       "      <th>3</th>\n",
       "      <td>18.5</td>\n",
       "      <td>250.0</td>\n",
       "      <td>98</td>\n",
       "      <td>3525</td>\n",
       "      <td>19.0</td>\n",
       "      <td>US</td>\n",
       "      <td>15.0</td>\n",
       "    </tr>\n",
       "    <tr>\n",
       "      <th>4</th>\n",
       "      <td>34.3</td>\n",
       "      <td>97.0</td>\n",
       "      <td>78</td>\n",
       "      <td>2188</td>\n",
       "      <td>15.8</td>\n",
       "      <td>Europe</td>\n",
       "      <td>10.0</td>\n",
       "    </tr>\n",
       "  </tbody>\n",
       "</table>\n",
       "</div>"
      ],
      "text/plain": [
       "    mpg  displ   hp  weight  accel  origin  size\n",
       "0  18.0  250.0   88    3139   14.5      US  15.0\n",
       "1   9.0  304.0  193    4732   18.5      US  20.0\n",
       "2  36.1   91.0   60    1800   16.4    Asia  10.0\n",
       "3  18.5  250.0   98    3525   19.0      US  15.0\n",
       "4  34.3   97.0   78    2188   15.8  Europe  10.0"
      ]
     },
     "execution_count": 3,
     "metadata": {},
     "output_type": "execute_result"
    }
   ],
   "source": [
    "#Checking the head\n",
    "auto_df.head(5)"
   ]
  },
  {
   "cell_type": "code",
   "execution_count": 4,
   "id": "176548b2",
   "metadata": {},
   "outputs": [
    {
     "data": {
      "text/html": [
       "<div>\n",
       "<style scoped>\n",
       "    .dataframe tbody tr th:only-of-type {\n",
       "        vertical-align: middle;\n",
       "    }\n",
       "\n",
       "    .dataframe tbody tr th {\n",
       "        vertical-align: top;\n",
       "    }\n",
       "\n",
       "    .dataframe thead th {\n",
       "        text-align: right;\n",
       "    }\n",
       "</style>\n",
       "<table border=\"1\" class=\"dataframe\">\n",
       "  <thead>\n",
       "    <tr style=\"text-align: right;\">\n",
       "      <th></th>\n",
       "      <th>mpg</th>\n",
       "      <th>displ</th>\n",
       "      <th>hp</th>\n",
       "      <th>weight</th>\n",
       "      <th>accel</th>\n",
       "      <th>origin</th>\n",
       "      <th>size</th>\n",
       "    </tr>\n",
       "  </thead>\n",
       "  <tbody>\n",
       "    <tr>\n",
       "      <th>387</th>\n",
       "      <td>18.0</td>\n",
       "      <td>250.0</td>\n",
       "      <td>88</td>\n",
       "      <td>3021</td>\n",
       "      <td>16.5</td>\n",
       "      <td>US</td>\n",
       "      <td>15.0</td>\n",
       "    </tr>\n",
       "    <tr>\n",
       "      <th>388</th>\n",
       "      <td>27.0</td>\n",
       "      <td>151.0</td>\n",
       "      <td>90</td>\n",
       "      <td>2950</td>\n",
       "      <td>17.3</td>\n",
       "      <td>US</td>\n",
       "      <td>10.0</td>\n",
       "    </tr>\n",
       "    <tr>\n",
       "      <th>389</th>\n",
       "      <td>29.5</td>\n",
       "      <td>98.0</td>\n",
       "      <td>68</td>\n",
       "      <td>2135</td>\n",
       "      <td>16.6</td>\n",
       "      <td>Asia</td>\n",
       "      <td>10.0</td>\n",
       "    </tr>\n",
       "    <tr>\n",
       "      <th>390</th>\n",
       "      <td>17.5</td>\n",
       "      <td>250.0</td>\n",
       "      <td>110</td>\n",
       "      <td>3520</td>\n",
       "      <td>16.4</td>\n",
       "      <td>US</td>\n",
       "      <td>15.0</td>\n",
       "    </tr>\n",
       "    <tr>\n",
       "      <th>391</th>\n",
       "      <td>25.1</td>\n",
       "      <td>140.0</td>\n",
       "      <td>88</td>\n",
       "      <td>2720</td>\n",
       "      <td>15.4</td>\n",
       "      <td>US</td>\n",
       "      <td>10.0</td>\n",
       "    </tr>\n",
       "  </tbody>\n",
       "</table>\n",
       "</div>"
      ],
      "text/plain": [
       "      mpg  displ   hp  weight  accel origin  size\n",
       "387  18.0  250.0   88    3021   16.5     US  15.0\n",
       "388  27.0  151.0   90    2950   17.3     US  10.0\n",
       "389  29.5   98.0   68    2135   16.6   Asia  10.0\n",
       "390  17.5  250.0  110    3520   16.4     US  15.0\n",
       "391  25.1  140.0   88    2720   15.4     US  10.0"
      ]
     },
     "execution_count": 4,
     "metadata": {},
     "output_type": "execute_result"
    }
   ],
   "source": [
    "#Checking the tail\n",
    "auto_df.tail(5)"
   ]
  },
  {
   "cell_type": "markdown",
   "id": "7fc357c4",
   "metadata": {},
   "source": [
    "## Checking the shape and the data types"
   ]
  },
  {
   "cell_type": "markdown",
   "id": "7b48f86f",
   "metadata": {},
   "source": [
    "Most machine learning algorithms are very sensitive to the shape and the data types of the dataset. This simple step will give us an idea about how our dataset and the observations in it have been structured. While there are seperate .shape and .dtypes attributes for this, we will use .info() method which will return information about the shape and the data types at the same time. "
   ]
  },
  {
   "cell_type": "code",
   "execution_count": 5,
   "id": "07fcbb50",
   "metadata": {},
   "outputs": [
    {
     "name": "stdout",
     "output_type": "stream",
     "text": [
      "<class 'pandas.core.frame.DataFrame'>\n",
      "RangeIndex: 392 entries, 0 to 391\n",
      "Data columns (total 7 columns):\n",
      " #   Column  Non-Null Count  Dtype  \n",
      "---  ------  --------------  -----  \n",
      " 0   mpg     392 non-null    float64\n",
      " 1   displ   392 non-null    float64\n",
      " 2   hp      392 non-null    int64  \n",
      " 3   weight  392 non-null    int64  \n",
      " 4   accel   392 non-null    float64\n",
      " 5   origin  392 non-null    object \n",
      " 6   size    392 non-null    float64\n",
      "dtypes: float64(4), int64(2), object(1)\n",
      "memory usage: 21.6+ KB\n"
     ]
    }
   ],
   "source": [
    "#Info\n",
    "auto_df.info()"
   ]
  },
  {
   "cell_type": "markdown",
   "id": "c11616c7",
   "metadata": {},
   "source": [
    "What does this tell us?\n",
    "\n",
    "* There are 392 rows (entries) and 7 columns\n",
    "* There is one column where the data type is string(object)\n",
    "* Not all numeric values have the same data type (some are integer and some are floats\n",
    "\n",
    "Let's check what is in the \"origin\" column."
   ]
  },
  {
   "cell_type": "code",
   "execution_count": 6,
   "id": "92134f40",
   "metadata": {},
   "outputs": [
    {
     "data": {
      "text/plain": [
       "array(['US', 'Asia', 'Europe'], dtype=object)"
      ]
     },
     "execution_count": 6,
     "metadata": {},
     "output_type": "execute_result"
    }
   ],
   "source": [
    "#Checking for unique string objects\n",
    "auto_df.origin.unique()"
   ]
  },
  {
   "cell_type": "markdown",
   "id": "56319862",
   "metadata": {},
   "source": [
    "Now, to ensure more stability, we will turn the integer values into floats."
   ]
  },
  {
   "cell_type": "code",
   "execution_count": 7,
   "id": "f490ee55",
   "metadata": {},
   "outputs": [],
   "source": [
    "#Turnin integers into floats\n",
    "auto_df[\"hp\"] = auto_df.hp.astype(float)\n",
    "auto_df[\"weight\"] = auto_df.weight.astype(float)"
   ]
  },
  {
   "cell_type": "code",
   "execution_count": 8,
   "id": "876e5cf0",
   "metadata": {},
   "outputs": [
    {
     "data": {
      "text/plain": [
       "mpg       float64\n",
       "displ     float64\n",
       "hp        float64\n",
       "weight    float64\n",
       "accel     float64\n",
       "origin     object\n",
       "size      float64\n",
       "dtype: object"
      ]
     },
     "execution_count": 8,
     "metadata": {},
     "output_type": "execute_result"
    }
   ],
   "source": [
    "#Checking the dtypes again\n",
    "auto_df.dtypes"
   ]
  },
  {
   "cell_type": "markdown",
   "id": "899a5b26",
   "metadata": {},
   "source": [
    "Now we have all the numeric values cast as one data type. "
   ]
  },
  {
   "cell_type": "markdown",
   "id": "9e43660e",
   "metadata": {},
   "source": [
    "## Checking for missing values"
   ]
  },
  {
   "cell_type": "markdown",
   "id": "4b336760",
   "metadata": {},
   "source": [
    "When we check the data with the .info() method, we can see if it has missing values or not. Yet, I also want to show you another way to do that. If you use .isna() with .any(), it will show \"True\" if any of the columns have any missing values."
   ]
  },
  {
   "cell_type": "code",
   "execution_count": 9,
   "id": "565b3c10",
   "metadata": {},
   "outputs": [
    {
     "data": {
      "text/plain": [
       "mpg       False\n",
       "displ     False\n",
       "hp        False\n",
       "weight    False\n",
       "accel     False\n",
       "origin    False\n",
       "size      False\n",
       "dtype: bool"
      ]
     },
     "execution_count": 9,
     "metadata": {},
     "output_type": "execute_result"
    }
   ],
   "source": [
    "#Checking for NaN\n",
    "auto_df.isna().any()"
   ]
  },
  {
   "cell_type": "markdown",
   "id": "e5f11276",
   "metadata": {},
   "source": [
    "## Descriptive Statistics"
   ]
  },
  {
   "cell_type": "markdown",
   "id": "01175b5a",
   "metadata": {},
   "source": [
    "The .describe() method provides us with descriptive statistics (mean,median,standart deviation etc.) related to the dataset. It is an essential step thorugh which we can check the dataset for abnormalities quickly. \n"
   ]
  },
  {
   "cell_type": "code",
   "execution_count": 10,
   "id": "125cf1af",
   "metadata": {},
   "outputs": [
    {
     "data": {
      "text/html": [
       "<div>\n",
       "<style scoped>\n",
       "    .dataframe tbody tr th:only-of-type {\n",
       "        vertical-align: middle;\n",
       "    }\n",
       "\n",
       "    .dataframe tbody tr th {\n",
       "        vertical-align: top;\n",
       "    }\n",
       "\n",
       "    .dataframe thead th {\n",
       "        text-align: right;\n",
       "    }\n",
       "</style>\n",
       "<table border=\"1\" class=\"dataframe\">\n",
       "  <thead>\n",
       "    <tr style=\"text-align: right;\">\n",
       "      <th></th>\n",
       "      <th>mpg</th>\n",
       "      <th>displ</th>\n",
       "      <th>hp</th>\n",
       "      <th>weight</th>\n",
       "      <th>accel</th>\n",
       "      <th>size</th>\n",
       "    </tr>\n",
       "  </thead>\n",
       "  <tbody>\n",
       "    <tr>\n",
       "      <th>count</th>\n",
       "      <td>392.000000</td>\n",
       "      <td>392.000000</td>\n",
       "      <td>392.000000</td>\n",
       "      <td>392.000000</td>\n",
       "      <td>392.000000</td>\n",
       "      <td>392.000000</td>\n",
       "    </tr>\n",
       "    <tr>\n",
       "      <th>mean</th>\n",
       "      <td>23.445918</td>\n",
       "      <td>194.411990</td>\n",
       "      <td>104.469388</td>\n",
       "      <td>2977.584184</td>\n",
       "      <td>15.541327</td>\n",
       "      <td>13.679847</td>\n",
       "    </tr>\n",
       "    <tr>\n",
       "      <th>std</th>\n",
       "      <td>7.805007</td>\n",
       "      <td>104.644004</td>\n",
       "      <td>38.491160</td>\n",
       "      <td>849.402560</td>\n",
       "      <td>2.758864</td>\n",
       "      <td>4.264458</td>\n",
       "    </tr>\n",
       "    <tr>\n",
       "      <th>min</th>\n",
       "      <td>9.000000</td>\n",
       "      <td>68.000000</td>\n",
       "      <td>46.000000</td>\n",
       "      <td>1613.000000</td>\n",
       "      <td>8.000000</td>\n",
       "      <td>7.500000</td>\n",
       "    </tr>\n",
       "    <tr>\n",
       "      <th>25%</th>\n",
       "      <td>17.000000</td>\n",
       "      <td>105.000000</td>\n",
       "      <td>75.000000</td>\n",
       "      <td>2225.250000</td>\n",
       "      <td>13.775000</td>\n",
       "      <td>10.000000</td>\n",
       "    </tr>\n",
       "    <tr>\n",
       "      <th>50%</th>\n",
       "      <td>22.750000</td>\n",
       "      <td>151.000000</td>\n",
       "      <td>93.500000</td>\n",
       "      <td>2803.500000</td>\n",
       "      <td>15.500000</td>\n",
       "      <td>10.000000</td>\n",
       "    </tr>\n",
       "    <tr>\n",
       "      <th>75%</th>\n",
       "      <td>29.000000</td>\n",
       "      <td>275.750000</td>\n",
       "      <td>126.000000</td>\n",
       "      <td>3614.750000</td>\n",
       "      <td>17.025000</td>\n",
       "      <td>20.000000</td>\n",
       "    </tr>\n",
       "    <tr>\n",
       "      <th>max</th>\n",
       "      <td>46.600000</td>\n",
       "      <td>455.000000</td>\n",
       "      <td>230.000000</td>\n",
       "      <td>5140.000000</td>\n",
       "      <td>24.800000</td>\n",
       "      <td>20.000000</td>\n",
       "    </tr>\n",
       "  </tbody>\n",
       "</table>\n",
       "</div>"
      ],
      "text/plain": [
       "              mpg       displ          hp       weight       accel        size\n",
       "count  392.000000  392.000000  392.000000   392.000000  392.000000  392.000000\n",
       "mean    23.445918  194.411990  104.469388  2977.584184   15.541327   13.679847\n",
       "std      7.805007  104.644004   38.491160   849.402560    2.758864    4.264458\n",
       "min      9.000000   68.000000   46.000000  1613.000000    8.000000    7.500000\n",
       "25%     17.000000  105.000000   75.000000  2225.250000   13.775000   10.000000\n",
       "50%     22.750000  151.000000   93.500000  2803.500000   15.500000   10.000000\n",
       "75%     29.000000  275.750000  126.000000  3614.750000   17.025000   20.000000\n",
       "max     46.600000  455.000000  230.000000  5140.000000   24.800000   20.000000"
      ]
     },
     "execution_count": 10,
     "metadata": {},
     "output_type": "execute_result"
    }
   ],
   "source": [
    "auto_df.describe()"
   ]
  },
  {
   "cell_type": "markdown",
   "id": "72525a94",
   "metadata": {},
   "source": [
    "## Data Visualization"
   ]
  },
  {
   "cell_type": "markdown",
   "id": "766c14d8",
   "metadata": {},
   "source": [
    "This is the step which will allow us to visually explore the data. Simple Regression tasks consist of efficiently utilizing the correlation between two variables to perform a predictive analysis. Therefore, it would make sense to use a data viz which can help us better understand the correlation between the variables. Seaborn's heatmap is the right tool for this task. Here we will pass the dataframe with .corr() for Seaborn to show us a correlation heatmap. The cmap argument is for the color map which will be used. I usually prefer to use Red-Blue palette for mapping out correlation"
   ]
  },
  {
   "cell_type": "code",
   "execution_count": 11,
   "id": "218c6de1",
   "metadata": {},
   "outputs": [
    {
     "data": {
      "image/png": "[encoded data removed]",
      "text/plain": [
       "<Figure size 432x288 with 2 Axes>"
      ]
     },
     "metadata": {
      "needs_background": "light"
     },
     "output_type": "display_data"
    }
   ],
   "source": [
    "sns.heatmap(auto_df.corr(),cmap=\"RdBu\")\n",
    "plt.show()"
   ]
  },
  {
   "cell_type": "markdown",
   "id": "3683b944",
   "metadata": {},
   "source": [
    "A darker tone of blue stands for positive correlation. What does that mean? Within the context of this heatmap, for example, it means that there as size goes up, the engine displacement (displ) also goes up.\n",
    "\n",
    "A darker tone of red stands for negative correlation. For example, this heatmap tells us that as size goes up, miles per galoon (mpg) go down. This makes sense, right? Big cars tend to consume more gas.\n",
    "\n",
    "As I have said before, heatmaps like these can be used to pick variables for linear regression models. Variables with a high positive or negative correlation tend to be more suitable for ML tasks."
   ]
  }
 ],
 "metadata": {
  "kernelspec": {
   "display_name": "Python 3 (ipykernel)",
   "language": "python",
   "name": "python3"
  },
  "language_info": {
   "codemirror_mode": {
    "name": "ipython",
    "version": 3
   },
   "file_extension": ".py",
   "mimetype": "text/x-python",
   "name": "python",
   "nbconvert_exporter": "python",
   "pygments_lexer": "ipython3",
   "version": "3.9.12"
  }
 },
 "nbformat": 4,
 "nbformat_minor": 5
}
