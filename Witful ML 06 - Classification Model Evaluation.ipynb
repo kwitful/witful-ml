{
 "cells": [
  {
   "cell_type": "markdown",
   "id": "11b14639",
   "metadata": {},
   "source": [
    "# Witful ML 06 - Classification Model Evaluation\n",
    "by Kaan Kabalak, Editor In Chief @ witfuldata.com"
   ]
  },
  {
   "cell_type": "markdown",
   "id": "4ba2a5c2",
   "metadata": {},
   "source": [
    "# Introduction"
   ]
  },
  {
   "cell_type": "markdown",
   "id": "99d59d01",
   "metadata": {},
   "source": [
    "In this chapter of Witful ML, we will see how we can evlauate our classification models in a detailed manner. "
   ]
  },
  {
   "cell_type": "markdown",
   "id": "1eaed2c8",
   "metadata": {},
   "source": [
    "# The Data Frame"
   ]
  },
  {
   "cell_type": "code",
   "execution_count": 1,
   "id": "49a2b5fa",
   "metadata": {},
   "outputs": [],
   "source": [
    "#Import\n",
    "import numpy as np\n",
    "import matplotlib.pyplot as plt\n",
    "import pandas as pd\n",
    "from sklearn.neighbors import KNeighborsClassifier\n",
    "from sklearn.metrics import accuracy_score,classification_report,confusion_matrix\n",
    "from yellowbrick.classifier import ClassificationReport,ConfusionMatrix"
   ]
  },
  {
   "cell_type": "code",
   "execution_count": 2,
   "id": "f3dacb01",
   "metadata": {},
   "outputs": [
    {
     "data": {
      "text/html": [
       "<div>\n",
       "<style scoped>\n",
       "    .dataframe tbody tr th:only-of-type {\n",
       "        vertical-align: middle;\n",
       "    }\n",
       "\n",
       "    .dataframe tbody tr th {\n",
       "        vertical-align: top;\n",
       "    }\n",
       "\n",
       "    .dataframe thead th {\n",
       "        text-align: right;\n",
       "    }\n",
       "</style>\n",
       "<table border=\"1\" class=\"dataframe\">\n",
       "  <thead>\n",
       "    <tr style=\"text-align: right;\">\n",
       "      <th></th>\n",
       "      <th>Pregnancies</th>\n",
       "      <th>Glucose</th>\n",
       "      <th>BloodPressure</th>\n",
       "      <th>SkinThickness</th>\n",
       "      <th>Insulin</th>\n",
       "      <th>BMI</th>\n",
       "      <th>DiabetesPedigreeFunction</th>\n",
       "      <th>Age</th>\n",
       "      <th>Outcome</th>\n",
       "    </tr>\n",
       "  </thead>\n",
       "  <tbody>\n",
       "    <tr>\n",
       "      <th>0</th>\n",
       "      <td>6.0</td>\n",
       "      <td>148.0</td>\n",
       "      <td>72.0</td>\n",
       "      <td>35.0</td>\n",
       "      <td>0.0</td>\n",
       "      <td>33.6</td>\n",
       "      <td>0.627</td>\n",
       "      <td>50.0</td>\n",
       "      <td>1.0</td>\n",
       "    </tr>\n",
       "    <tr>\n",
       "      <th>1</th>\n",
       "      <td>1.0</td>\n",
       "      <td>85.0</td>\n",
       "      <td>66.0</td>\n",
       "      <td>29.0</td>\n",
       "      <td>0.0</td>\n",
       "      <td>26.6</td>\n",
       "      <td>0.351</td>\n",
       "      <td>31.0</td>\n",
       "      <td>0.0</td>\n",
       "    </tr>\n",
       "    <tr>\n",
       "      <th>2</th>\n",
       "      <td>8.0</td>\n",
       "      <td>183.0</td>\n",
       "      <td>64.0</td>\n",
       "      <td>0.0</td>\n",
       "      <td>0.0</td>\n",
       "      <td>23.3</td>\n",
       "      <td>0.672</td>\n",
       "      <td>32.0</td>\n",
       "      <td>1.0</td>\n",
       "    </tr>\n",
       "    <tr>\n",
       "      <th>3</th>\n",
       "      <td>1.0</td>\n",
       "      <td>89.0</td>\n",
       "      <td>66.0</td>\n",
       "      <td>23.0</td>\n",
       "      <td>94.0</td>\n",
       "      <td>28.1</td>\n",
       "      <td>0.167</td>\n",
       "      <td>21.0</td>\n",
       "      <td>0.0</td>\n",
       "    </tr>\n",
       "    <tr>\n",
       "      <th>4</th>\n",
       "      <td>0.0</td>\n",
       "      <td>137.0</td>\n",
       "      <td>40.0</td>\n",
       "      <td>35.0</td>\n",
       "      <td>168.0</td>\n",
       "      <td>43.1</td>\n",
       "      <td>2.288</td>\n",
       "      <td>33.0</td>\n",
       "      <td>1.0</td>\n",
       "    </tr>\n",
       "  </tbody>\n",
       "</table>\n",
       "</div>"
      ],
      "text/plain": [
       "   Pregnancies  Glucose  BloodPressure  SkinThickness  Insulin   BMI  \\\n",
       "0          6.0    148.0           72.0           35.0      0.0  33.6   \n",
       "1          1.0     85.0           66.0           29.0      0.0  26.6   \n",
       "2          8.0    183.0           64.0            0.0      0.0  23.3   \n",
       "3          1.0     89.0           66.0           23.0     94.0  28.1   \n",
       "4          0.0    137.0           40.0           35.0    168.0  43.1   \n",
       "\n",
       "   DiabetesPedigreeFunction   Age  Outcome  \n",
       "0                     0.627  50.0      1.0  \n",
       "1                     0.351  31.0      0.0  \n",
       "2                     0.672  32.0      1.0  \n",
       "3                     0.167  21.0      0.0  \n",
       "4                     2.288  33.0      1.0  "
      ]
     },
     "execution_count": 2,
     "metadata": {},
     "output_type": "execute_result"
    }
   ],
   "source": [
    "#Form a data frame\n",
    "diabetes_df = pd.read_csv(\"diabetes.csv\")\n",
    "diabetes_df = diabetes_df.astype(float)\n",
    "diabetes_df.head(5)"
   ]
  },
  {
   "cell_type": "code",
   "execution_count": 3,
   "id": "efafbebe",
   "metadata": {},
   "outputs": [
    {
     "data": {
      "text/plain": [
       "0.0    500\n",
       "1.0    268\n",
       "Name: Outcome, dtype: int64"
      ]
     },
     "execution_count": 3,
     "metadata": {},
     "output_type": "execute_result"
    }
   ],
   "source": [
    "diabetes_df.Outcome.value_counts()"
   ]
  },
  {
   "cell_type": "markdown",
   "id": "3a8ed877",
   "metadata": {},
   "source": [
    "# The Model"
   ]
  },
  {
   "cell_type": "code",
   "execution_count": 4,
   "id": "ae06a572",
   "metadata": {},
   "outputs": [],
   "source": [
    "#X-y variables\n",
    "X = diabetes_df.drop(\"Outcome\",axis=1).values\n",
    "y = diabetes_df[\"Outcome\"].values\n",
    "#Instantiate\n",
    "k_model = KNeighborsClassifier(n_neighbors=3)\n",
    "#Fit\n",
    "k_model.fit(X,y)\n",
    "#Predict\n",
    "pred_y = k_model.predict(X)"
   ]
  },
  {
   "cell_type": "markdown",
   "id": "ae532b2d",
   "metadata": {},
   "source": [
    "# Evaluation & Visualization"
   ]
  },
  {
   "cell_type": "code",
   "execution_count": 5,
   "id": "b5fc6214",
   "metadata": {},
   "outputs": [
    {
     "name": "stdout",
     "output_type": "stream",
     "text": [
      "0.859375\n"
     ]
    }
   ],
   "source": [
    "#Print the accuracy score\n",
    "print(accuracy_score(y,pred_y))"
   ]
  },
  {
   "cell_type": "markdown",
   "id": "f3ae7edf",
   "metadata": {},
   "source": [
    "Accuracy score gives us an idea about how well our model performed, but there are other metrics which can help us better in particular situations. For example, if there is an imbalance between class observations (%90 of data belongs to one class, the rest belongs to another), it wouldn't be right to rely only on accuracy. We cannot rely on accuracy because the model would still be %90 accurate if it completely ignored the second class. So, what do we need?\n",
    "\n",
    "We should be able to see how well our model performed on predicting the classes from different aspects. The confusion matrix and classification reports help us better understand our model's performance. "
   ]
  },
  {
   "cell_type": "markdown",
   "id": "16baa521",
   "metadata": {},
   "source": [
    "## Confusion Matrix"
   ]
  },
  {
   "cell_type": "code",
   "execution_count": 6,
   "id": "34154a03",
   "metadata": {},
   "outputs": [
    {
     "name": "stdout",
     "output_type": "stream",
     "text": [
      "[[459  41]\n",
      " [ 67 201]]\n"
     ]
    }
   ],
   "source": [
    "#Print the confusion matrix\n",
    "print(confusion_matrix(y,pred_y))"
   ]
  },
  {
   "cell_type": "markdown",
   "id": "435c584f",
   "metadata": {},
   "source": [
    "The visualization below will help you better understand what this matrix actually means."
   ]
  },
  {
   "cell_type": "code",
   "execution_count": 7,
   "id": "05829f1d",
   "metadata": {
    "scrolled": true
   },
   "outputs": [
    {
     "data": {
      "image/png": "[encoded data removed]",
      "text/plain": [
       "<Figure size 576x396 with 1 Axes>"
      ]
     },
     "metadata": {},
     "output_type": "display_data"
    },
    {
     "data": {
      "text/plain": [
       "<AxesSubplot:title={'center':'KNeighborsClassifier Confusion Matrix'}, xlabel='Predicted Class', ylabel='True Class'>"
      ]
     },
     "execution_count": 7,
     "metadata": {},
     "output_type": "execute_result"
    }
   ],
   "source": [
    "#Visualize the confusion matrix\n",
    "confusion_visualizer = ConfusionMatrix(k_model, classes = [\"Healthy\",\"Diabetes\"])\n",
    "confusion_visualizer.fit(X,y)\n",
    "confusion_visualizer.score(X,y)\n",
    "confusion_visualizer.show()"
   ]
  },
  {
   "cell_type": "markdown",
   "id": "8d6188aa",
   "metadata": {},
   "source": [
    "True classes are counted from left to right. The predicted classes are counted from bottom to up. This means that there are 500 \"Healthy\" and 268 \"Diabetes\" observations.\n",
    "\n",
    "The numbers on the blocks stand for the number of times when predicted classes overlapped with true classes. From this visualization, we can tell that the predicted \"healthy\" class overlapped with the true \"healthy\" class 459 times. This means that our model correctly predicted the class of 459 healthy observations. \n",
    "\n",
    "We can also see that the predicted \"healthy\" class overlapped with the true \"diabetes class 67 times. This means that our model made wrong predictions on 67 diabetes observations and predicted their class as \"healthy\" whereas it should have been \"diabetes\""
   ]
  },
  {
   "cell_type": "markdown",
   "id": "494feb82",
   "metadata": {},
   "source": [
    "### Understanding True-False & Negative - Positive"
   ]
  },
  {
   "cell_type": "markdown",
   "id": "aa0accf4",
   "metadata": {},
   "source": [
    "In the context of classification models:\n",
    "\n",
    "* True = Correctly prediction\n",
    "* False = Wrong prediction\n",
    "* Negative = The observation does not have a certain characteristic (in this case, it doesn't have diabetes)\n",
    "* Positive = The observation has a certain characteristic (in this case, it has diabetes)\n",
    "\n",
    "One mistake here would be to think that the terms \"positive\" and \"negative\" have something to do with the result being good or bad. To take your mind off thinking like this, you can think about COVID tests. A \"positive\" result means that you have COVID and a \"negative\" result means that you don't have it. This logic applies to various classification models where \"positive\" stands for a class which we would define as bad in our lives.\n",
    "\n",
    "So what can we say about true-false predictions and negative-positive classes looking at the confusion matrix? Let's see:\n",
    "\n",
    "\n",
    "There are 500 (459 + 41) observations which are \"Healthy\" (Negative)\n",
    "\n",
    "There are 268 (201 + 67) observations which are \"Diabetes\" (Positive)\n",
    "\n",
    "#### True Negatives\n",
    "\n",
    "* The model labeled 459 of 500 \"healthy\" observations correctly. So, the number of True Negatives is 459\n",
    "\n",
    "#### False Positives\n",
    "\n",
    "* The model predicted 41 of them as \"diabetes\", whereas they should have been \"Healthy\". So, the number of False Positives is 41\n",
    "\n",
    "\n",
    "\n",
    "\n",
    "#### True Positives\n",
    "\n",
    "* The model labeled 201 diabetes observations correctly with \"diabetes\". So, the number of True Positives is 201\n",
    "\n",
    "#### False Negatives\n",
    "\n",
    "* The model predicted 67 of the \"diabetes\" observations as \"healthy\" So, the number of False Negatives is 67\n",
    "\n",
    "\n",
    "\n"
   ]
  },
  {
   "cell_type": "markdown",
   "id": "1c2432e2",
   "metadata": {},
   "source": [
    "## Classification Report"
   ]
  },
  {
   "cell_type": "code",
   "execution_count": 8,
   "id": "44d0700a",
   "metadata": {},
   "outputs": [
    {
     "name": "stdout",
     "output_type": "stream",
     "text": [
      "              precision    recall  f1-score   support\n",
      "\n",
      "     Healthy       0.87      0.92      0.89       500\n",
      "    Diabetes       0.83      0.75      0.79       268\n",
      "\n",
      "    accuracy                           0.86       768\n",
      "   macro avg       0.85      0.83      0.84       768\n",
      "weighted avg       0.86      0.86      0.86       768\n",
      "\n"
     ]
    }
   ],
   "source": [
    "#Print the classification report\n",
    "print(classification_report(y,pred_y,target_names=[\"Healthy\",\"Diabetes\"]))"
   ]
  },
  {
   "cell_type": "markdown",
   "id": "381f0786",
   "metadata": {},
   "source": [
    " What are precision, recall, f1 and support? What are those macro and weighted averages?\n",
    "\n",
    "#### Precision\n",
    "\n",
    "It is calculated as follows : True Positives/(True Positives + False Positives). It displays model performance in terms of not labeling an observation positive which is in fact a negative one. \n",
    "\n",
    "#### Recall\n",
    "\n",
    "It is calculated as follows : True Positives/(True Positives + False Negatives). It displays model performance in terms of finding all positive samples. In binary classifications like this one, recall of the positive class is known as “sensitivity”, whereas recall of the negative class is known as “specificity”.\n",
    "\n",
    "#### F1 Score\n",
    "\n",
    "It is calculated as follows : 2 * ((Precision + Recall)/(Precision * Recall)). It is known as the harmonic mean of precision and recall. \n",
    "\n",
    "#### Support \n",
    "\n",
    "It is the number of observations for each class.\n",
    "\n",
    "#### Macro Average \n",
    "\n",
    "It is the average, calculated without taking the number of observations into consideration\n",
    "\n",
    "#### Weighted Average\n",
    "\n",
    "It is the average, calculated by taking the number of observations into consideration. \n",
    "\n",
    "### Important Note:\n",
    "\n",
    "This classification report is calculated on a binary classification model which has one negative (\"healthy\") and one positive (\"diabetes\") class. If there is only one negative and positive class, why does the report show these scores (which are calculated through positive labels) for both the negative and positive class? \n",
    "\n",
    "The classification report has no way of knowing which classes we would define as \"positive\" and \"negative\". It calculates the scores by labeling one class positive and the other negative. Then, it calculates the scores again, this time by labeling the initially negative class as positive and the initially positive class as negative. This way we have all the results we need for all possible scenarios."
   ]
  },
  {
   "cell_type": "code",
   "execution_count": 9,
   "id": "89a50410",
   "metadata": {},
   "outputs": [
    {
     "data": {
      "image/png": "[encoded data removed]",
      "text/plain": [
       "<Figure size 576x396 with 2 Axes>"
      ]
     },
     "metadata": {},
     "output_type": "display_data"
    },
    {
     "data": {
      "text/plain": [
       "<AxesSubplot:title={'center':'KNeighborsClassifier Classification Report'}>"
      ]
     },
     "execution_count": 9,
     "metadata": {},
     "output_type": "execute_result"
    }
   ],
   "source": [
    "#Visualize the report\n",
    "report_visualizer = ClassificationReport(k_model, classes=[\"Healthy\",\"Diabetes\"], support=True)\n",
    "\n",
    "report_visualizer.fit(X,y)        \n",
    "report_visualizer.score(X,y)    \n",
    "report_visualizer.show()                "
   ]
  }
 ],
 "metadata": {
  "kernelspec": {
   "display_name": "Python 3 (ipykernel)",
   "language": "python",
   "name": "python3"
  },
  "language_info": {
   "codemirror_mode": {
    "name": "ipython",
    "version": 3
   },
   "file_extension": ".py",
   "mimetype": "text/x-python",
   "name": "python",
   "nbconvert_exporter": "python",
   "pygments_lexer": "ipython3",
   "version": "3.9.12"
  }
 },
 "nbformat": 4,
 "nbformat_minor": 5
}
