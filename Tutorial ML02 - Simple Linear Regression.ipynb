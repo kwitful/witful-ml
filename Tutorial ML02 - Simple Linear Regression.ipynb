{
 "cells": [
  {
   "cell_type": "markdown",
   "id": "78e9f53a",
   "metadata": {},
   "source": [
    "# Witful ML 02 - Simple Linear Regression\n",
    "by Kaan Kabalak, Editor In Chief @ witfuldata.com"
   ]
  },
  {
   "cell_type": "markdown",
   "id": "66f8cb14",
   "metadata": {},
   "source": [
    "# Introduction"
   ]
  },
  {
   "cell_type": "markdown",
   "id": "44732bcb",
   "metadata": {},
   "source": [
    "Welcome to the second chapter of the Witful ML series. In this chapter we will learn about the following:\n",
    "\n",
    "* The logic behind linear regression\n",
    "* Instantiating a linear regression model (and what that actually means)\n",
    "* Model fitting (and what that actually means)\n",
    "* Making predictions with models\n",
    "\n",
    "As I have mentioned at the end of the first chapter, we will build two different models for two different variables."
   ]
  },
  {
   "cell_type": "markdown",
   "id": "b9453226",
   "metadata": {},
   "source": [
    "## Importing & Data Frame"
   ]
  },
  {
   "cell_type": "code",
   "execution_count": 1,
   "id": "1d2bf305",
   "metadata": {},
   "outputs": [],
   "source": [
    "#Importing\n",
    "import numpy as np\n",
    "import matplotlib.pyplot as plt\n",
    "import pandas as pd\n",
    "import seaborn as sns\n",
    "from sklearn.linear_model import LinearRegression"
   ]
  },
  {
   "cell_type": "code",
   "execution_count": 2,
   "id": "438c3a82",
   "metadata": {},
   "outputs": [],
   "source": [
    "# Forming a data frame\n",
    "auto_df = pd.read_csv(\"auto.csv\")"
   ]
  },
  {
   "cell_type": "code",
   "execution_count": 3,
   "id": "3096ed52",
   "metadata": {},
   "outputs": [
    {
     "data": {
      "text/html": [
       "<div>\n",
       "<style scoped>\n",
       "    .dataframe tbody tr th:only-of-type {\n",
       "        vertical-align: middle;\n",
       "    }\n",
       "\n",
       "    .dataframe tbody tr th {\n",
       "        vertical-align: top;\n",
       "    }\n",
       "\n",
       "    .dataframe thead th {\n",
       "        text-align: right;\n",
       "    }\n",
       "</style>\n",
       "<table border=\"1\" class=\"dataframe\">\n",
       "  <thead>\n",
       "    <tr style=\"text-align: right;\">\n",
       "      <th></th>\n",
       "      <th>mpg</th>\n",
       "      <th>displ</th>\n",
       "      <th>hp</th>\n",
       "      <th>weight</th>\n",
       "      <th>accel</th>\n",
       "      <th>origin</th>\n",
       "      <th>size</th>\n",
       "    </tr>\n",
       "  </thead>\n",
       "  <tbody>\n",
       "    <tr>\n",
       "      <th>0</th>\n",
       "      <td>18.0</td>\n",
       "      <td>250.0</td>\n",
       "      <td>88</td>\n",
       "      <td>3139</td>\n",
       "      <td>14.5</td>\n",
       "      <td>US</td>\n",
       "      <td>15.0</td>\n",
       "    </tr>\n",
       "    <tr>\n",
       "      <th>1</th>\n",
       "      <td>9.0</td>\n",
       "      <td>304.0</td>\n",
       "      <td>193</td>\n",
       "      <td>4732</td>\n",
       "      <td>18.5</td>\n",
       "      <td>US</td>\n",
       "      <td>20.0</td>\n",
       "    </tr>\n",
       "    <tr>\n",
       "      <th>2</th>\n",
       "      <td>36.1</td>\n",
       "      <td>91.0</td>\n",
       "      <td>60</td>\n",
       "      <td>1800</td>\n",
       "      <td>16.4</td>\n",
       "      <td>Asia</td>\n",
       "      <td>10.0</td>\n",
       "    </tr>\n",
       "    <tr>\n",
       "      <th>3</th>\n",
       "      <td>18.5</td>\n",
       "      <td>250.0</td>\n",
       "      <td>98</td>\n",
       "      <td>3525</td>\n",
       "      <td>19.0</td>\n",
       "      <td>US</td>\n",
       "      <td>15.0</td>\n",
       "    </tr>\n",
       "    <tr>\n",
       "      <th>4</th>\n",
       "      <td>34.3</td>\n",
       "      <td>97.0</td>\n",
       "      <td>78</td>\n",
       "      <td>2188</td>\n",
       "      <td>15.8</td>\n",
       "      <td>Europe</td>\n",
       "      <td>10.0</td>\n",
       "    </tr>\n",
       "  </tbody>\n",
       "</table>\n",
       "</div>"
      ],
      "text/plain": [
       "    mpg  displ   hp  weight  accel  origin  size\n",
       "0  18.0  250.0   88    3139   14.5      US  15.0\n",
       "1   9.0  304.0  193    4732   18.5      US  20.0\n",
       "2  36.1   91.0   60    1800   16.4    Asia  10.0\n",
       "3  18.5  250.0   98    3525   19.0      US  15.0\n",
       "4  34.3   97.0   78    2188   15.8  Europe  10.0"
      ]
     },
     "execution_count": 3,
     "metadata": {},
     "output_type": "execute_result"
    }
   ],
   "source": [
    "auto_df.head(5)"
   ]
  },
  {
   "cell_type": "code",
   "execution_count": 4,
   "id": "0bf82db1",
   "metadata": {},
   "outputs": [
    {
     "name": "stdout",
     "output_type": "stream",
     "text": [
      "<class 'pandas.core.frame.DataFrame'>\n",
      "RangeIndex: 392 entries, 0 to 391\n",
      "Data columns (total 7 columns):\n",
      " #   Column  Non-Null Count  Dtype  \n",
      "---  ------  --------------  -----  \n",
      " 0   mpg     392 non-null    float64\n",
      " 1   displ   392 non-null    float64\n",
      " 2   hp      392 non-null    int64  \n",
      " 3   weight  392 non-null    int64  \n",
      " 4   accel   392 non-null    float64\n",
      " 5   origin  392 non-null    object \n",
      " 6   size    392 non-null    float64\n",
      "dtypes: float64(4), int64(2), object(1)\n",
      "memory usage: 21.6+ KB\n"
     ]
    }
   ],
   "source": [
    "auto_df.info()"
   ]
  },
  {
   "cell_type": "markdown",
   "id": "56fc8a93",
   "metadata": {},
   "source": [
    "# Simple Linear Regression"
   ]
  },
  {
   "cell_type": "markdown",
   "id": "bd1dd489",
   "metadata": {},
   "source": [
    "What is simple linear regression?\n",
    "\n",
    "Let's say we you know the height and the weight of 200 people. As their height goes up, their weight probably goes up too, right? You study how height affects weight. After enough studying (and learning), you decide that you know enough. When you hear about the height of a person, you can now make a prediction about his/her weight. Of course, you will still make some mistakes. Yet, after studying height-weight relation for so many people, your guesses will be much better than someone randomly guessing it.\n",
    "\n",
    "Simple Linear Regression is just that. You have an independent feature variable (X), you have a dependent target variable (y) and there are the mistakes you make when you try to use height info to predict weight (error). You study how X affects y, so that you can more accurately predict y when you only have X in the future.\n",
    "\n",
    "Now let's see how we can make this work in Python. We will use data on engine displacement of cars' to predict their horsepower. The scikit learn library will enable us to make the linear regression algorithm work with only a few lines of code. Let's begin!"
   ]
  },
  {
   "cell_type": "markdown",
   "id": "71ed5784",
   "metadata": {},
   "source": [
    "## Understanding linear regression visually"
   ]
  },
  {
   "cell_type": "markdown",
   "id": "12851c4d",
   "metadata": {},
   "source": [
    "Before we actually insatiate the model and fit it to make predictions, I want to show you visually what linear regression is.\n"
   ]
  },
  {
   "cell_type": "code",
   "execution_count": 5,
   "id": "a906262d",
   "metadata": {},
   "outputs": [
    {
     "data": {
      "image/png": "[encoded data removed]",
      "text/plain": [
       "<Figure size 432x288 with 1 Axes>"
      ]
     },
     "metadata": {
      "needs_background": "light"
     },
     "output_type": "display_data"
    }
   ],
   "source": [
    "#Seaborn regplot\n",
    "sns.regplot(x=\"displ\",y=\"hp\",data=auto_df,ci=None)\n",
    "plt.show()"
   ]
  },
  {
   "cell_type": "markdown",
   "id": "b3d3009e",
   "metadata": {},
   "source": [
    "Every blue dot you see here is made up of two variable values (x,y). For example, when engine displacement of a car was 150, its horsepower was 125, and the scatterplot put a blue dot there. This shows us how x and y are correlated.\n",
    "\n",
    "You see that blue line going thorugh the data points of the scatter plot? That's a regression line. The model will try to draw a line that will follow the trend of the data points (dots) as closely as possible. This way, when we have only x, we will have an idea where to put y.\n",
    "\n",
    "What is the math formula of all this?\n",
    "\n",
    "It's y^ = a + bx\n",
    "\n",
    "What does it mean?\n",
    "\n",
    "* y^ is the predicted value\n",
    "* a is the intercept of the line. The point where the line starts.\n",
    "* b is the slope of the line. It is the change that occurs in y with every change in x\n",
    "* x is x, the independent variable\n",
    "\n",
    "If we have a dataset with hundreds of rows, it can take us ages to calculate all this by hand. It's nice to have Python for situations like this. It's even nicer to have libraries like scikit learn which have all these algorithms already formed for use. So, let's move on!"
   ]
  },
  {
   "cell_type": "markdown",
   "id": "1bdf21c0",
   "metadata": {},
   "source": [
    "## Determining the feature and the target variable"
   ]
  },
  {
   "cell_type": "markdown",
   "id": "bc76368c",
   "metadata": {},
   "source": [
    "We will now pick a X and a y variable. This is done by subsetting a data frame and using the .values attribute of that subset."
   ]
  },
  {
   "cell_type": "code",
   "execution_count": 6,
   "id": "17ad3e5b",
   "metadata": {},
   "outputs": [],
   "source": [
    "#X and y values\n",
    "X = auto_df[\"displ\"].values\n",
    "y = auto_df[\"hp\"].values"
   ]
  },
  {
   "cell_type": "markdown",
   "id": "1215e30a",
   "metadata": {},
   "source": [
    "When we have only one X variable, we have to reshape it so that the model can process it without problems."
   ]
  },
  {
   "cell_type": "code",
   "execution_count": 7,
   "id": "e271bee2",
   "metadata": {},
   "outputs": [],
   "source": [
    "#Reshaping X\n",
    "X = X.reshape(-1,1)"
   ]
  },
  {
   "cell_type": "markdown",
   "id": "ca95dec9",
   "metadata": {},
   "source": [
    "##  Instantiating and fitting the model"
   ]
  },
  {
   "cell_type": "markdown",
   "id": "360bd1a0",
   "metadata": {},
   "source": [
    "Instantiating basically means introducing the core of the model. We do this so that we can easily use methods on it.\n",
    "\n",
    "Fitting means making the model study the X-y relation. It is what allows us draw that regression line. This is where the expression \"to fit a line to the data\" comes from.\n",
    "\n",
    "Fitting is also a part of the process where the algorithm (or the machine using it) \"learns\" from the data."
   ]
  },
  {
   "cell_type": "code",
   "execution_count": 8,
   "id": "652d6ab2",
   "metadata": {},
   "outputs": [],
   "source": [
    "#Assign to a variable and instantiate\n",
    "model_first = LinearRegression()"
   ]
  },
  {
   "cell_type": "code",
   "execution_count": 9,
   "id": "1b179f42",
   "metadata": {},
   "outputs": [
    {
     "data": {
      "text/plain": [
       "LinearRegression()"
      ]
     },
     "execution_count": 9,
     "metadata": {},
     "output_type": "execute_result"
    }
   ],
   "source": [
    "#Fitting the model\n",
    "model_first.fit(X,y)"
   ]
  },
  {
   "cell_type": "markdown",
   "id": "51cfb034",
   "metadata": {},
   "source": [
    "## Making predictions"
   ]
  },
  {
   "cell_type": "markdown",
   "id": "a00e4fcf",
   "metadata": {},
   "source": [
    "We now use our trained model to make predictions on y."
   ]
  },
  {
   "cell_type": "code",
   "execution_count": 10,
   "id": "0c4ba3d1",
   "metadata": {},
   "outputs": [],
   "source": [
    "#Predictions\n",
    "pred_first = model_first.predict(X)"
   ]
  },
  {
   "cell_type": "markdown",
   "id": "6fbacf4f",
   "metadata": {},
   "source": [
    "Now, let's compare these predictions to the real values through a data frame"
   ]
  },
  {
   "cell_type": "code",
   "execution_count": 11,
   "id": "9a027609",
   "metadata": {},
   "outputs": [
    {
     "data": {
      "text/html": [
       "<div>\n",
       "<style scoped>\n",
       "    .dataframe tbody tr th:only-of-type {\n",
       "        vertical-align: middle;\n",
       "    }\n",
       "\n",
       "    .dataframe tbody tr th {\n",
       "        vertical-align: top;\n",
       "    }\n",
       "\n",
       "    .dataframe thead th {\n",
       "        text-align: right;\n",
       "    }\n",
       "</style>\n",
       "<table border=\"1\" class=\"dataframe\">\n",
       "  <thead>\n",
       "    <tr style=\"text-align: right;\">\n",
       "      <th></th>\n",
       "      <th>Predicted_Values</th>\n",
       "      <th>Real_Values</th>\n",
       "    </tr>\n",
       "  </thead>\n",
       "  <tbody>\n",
       "    <tr>\n",
       "      <th>0</th>\n",
       "      <td>122.815525</td>\n",
       "      <td>88</td>\n",
       "    </tr>\n",
       "    <tr>\n",
       "      <th>1</th>\n",
       "      <td>140.637559</td>\n",
       "      <td>193</td>\n",
       "    </tr>\n",
       "    <tr>\n",
       "      <th>2</th>\n",
       "      <td>70.339536</td>\n",
       "      <td>60</td>\n",
       "    </tr>\n",
       "    <tr>\n",
       "      <th>3</th>\n",
       "      <td>122.815525</td>\n",
       "      <td>98</td>\n",
       "    </tr>\n",
       "    <tr>\n",
       "      <th>4</th>\n",
       "      <td>72.319762</td>\n",
       "      <td>78</td>\n",
       "    </tr>\n",
       "    <tr>\n",
       "      <th>5</th>\n",
       "      <td>79.580591</td>\n",
       "      <td>100</td>\n",
       "    </tr>\n",
       "    <tr>\n",
       "      <th>6</th>\n",
       "      <td>75.950176</td>\n",
       "      <td>75</td>\n",
       "    </tr>\n",
       "    <tr>\n",
       "      <th>7</th>\n",
       "      <td>80.240666</td>\n",
       "      <td>76</td>\n",
       "    </tr>\n",
       "    <tr>\n",
       "      <th>8</th>\n",
       "      <td>139.977483</td>\n",
       "      <td>130</td>\n",
       "    </tr>\n",
       "    <tr>\n",
       "      <th>9</th>\n",
       "      <td>139.977483</td>\n",
       "      <td>140</td>\n",
       "    </tr>\n",
       "  </tbody>\n",
       "</table>\n",
       "</div>"
      ],
      "text/plain": [
       "   Predicted_Values  Real_Values\n",
       "0        122.815525           88\n",
       "1        140.637559          193\n",
       "2         70.339536           60\n",
       "3        122.815525           98\n",
       "4         72.319762           78\n",
       "5         79.580591          100\n",
       "6         75.950176           75\n",
       "7         80.240666           76\n",
       "8        139.977483          130\n",
       "9        139.977483          140"
      ]
     },
     "execution_count": 11,
     "metadata": {},
     "output_type": "execute_result"
    }
   ],
   "source": [
    "#Forming a data frame from a dictionary\n",
    "pred_real_df = pd.DataFrame({\"Predicted_Values\":pred_first,\"Real_Values\":y})\n",
    "pred_real_df.head(10)"
   ]
  },
  {
   "cell_type": "markdown",
   "id": "20a1d300",
   "metadata": {},
   "source": [
    "From the first ten observations, it seems that our model sometimes got close and sometimes it was wrong. We will learn how to evaluate our model's performance in future chapters. For now, just know that all models make mistakes. Now let's visualize this data frame to get a an idea how the situation looks like from a wider perspective."
   ]
  },
  {
   "cell_type": "code",
   "execution_count": 12,
   "id": "5261f3ee",
   "metadata": {},
   "outputs": [
    {
     "data": {
      "image/png": "[encoded data removed]",
      "text/plain": [
       "<Figure size 432x288 with 1 Axes>"
      ]
     },
     "metadata": {
      "needs_background": "light"
     },
     "output_type": "display_data"
    }
   ],
   "source": [
    "#Using a seaborn scatterplot to visualize model performance\n",
    "sns.scatterplot(x=\"Predicted_Values\",y=\"Real_Values\",data=pred_real_df,ci=None)\n",
    "plt.show()"
   ]
  },
  {
   "cell_type": "markdown",
   "id": "c6d4351e",
   "metadata": {},
   "source": [
    "The data points did not scatter around that much. This is nice. It means that our model's predictions did not stray far away from real values."
   ]
  },
  {
   "cell_type": "markdown",
   "id": "2cd21860",
   "metadata": {},
   "source": [
    "Well this was fun, right? Let's do this all on two other variables to comprehend it better."
   ]
  },
  {
   "cell_type": "markdown",
   "id": "62c622d1",
   "metadata": {},
   "source": [
    "# Same Thing, Different Variables (But Why?)"
   ]
  },
  {
   "cell_type": "markdown",
   "id": "319e382a",
   "metadata": {},
   "source": [
    "Because the first time, we did it on variables that were positively correlated. Now, let's see how it works on variables that are negatively correlated. Plus, when it's ML, extra practice won't hurt.\n",
    "\n",
    "We will use the data on weight to predict miles per gallon (mpg) performance."
   ]
  },
  {
   "cell_type": "markdown",
   "id": "05410990",
   "metadata": {},
   "source": [
    "##  Linear regression, visualized"
   ]
  },
  {
   "cell_type": "markdown",
   "id": "b796958c",
   "metadata": {},
   "source": [
    "Let's see how a regression plot works on two variables that have a negative correlation"
   ]
  },
  {
   "cell_type": "code",
   "execution_count": 13,
   "id": "7ac96b78",
   "metadata": {},
   "outputs": [
    {
     "data": {
      "image/png": "[encoded data removed]",
      "text/plain": [
       "<Figure size 432x288 with 1 Axes>"
      ]
     },
     "metadata": {
      "needs_background": "light"
     },
     "output_type": "display_data"
    }
   ],
   "source": [
    "#Seaborn regplot\n",
    "sns.regplot(x=\"weight\",y=\"mpg\",data=auto_df,ci=None)\n",
    "plt.show()"
   ]
  },
  {
   "cell_type": "markdown",
   "id": "1bf61cf3",
   "metadata": {},
   "source": [
    "Linear regression is not about the direction. In our first work the trend was in positive (up) direction. Now, it's negative (down). This changes nothing. Linear regression still runs on the same formula (y^ = a + bx).\n",
    "\n",
    "Now, let's go through the same steps with these two different variables."
   ]
  },
  {
   "cell_type": "markdown",
   "id": "8b005ced",
   "metadata": {},
   "source": [
    "##  The variables"
   ]
  },
  {
   "cell_type": "code",
   "execution_count": 14,
   "id": "c6e0450f",
   "metadata": {},
   "outputs": [],
   "source": [
    "#X and y values\n",
    "X = auto_df[\"weight\"].values\n",
    "y = auto_df[\"mpg\"].values\n",
    "\n",
    "#Reshape X\n",
    "X = X.reshape(-1,1)"
   ]
  },
  {
   "cell_type": "markdown",
   "id": "bc032302",
   "metadata": {},
   "source": [
    "## Instantiate and fit the model"
   ]
  },
  {
   "cell_type": "code",
   "execution_count": 15,
   "id": "0524e2cb",
   "metadata": {},
   "outputs": [],
   "source": [
    "#Instantiate\n",
    "model_second = LinearRegression()"
   ]
  },
  {
   "cell_type": "code",
   "execution_count": 16,
   "id": "a2456ffd",
   "metadata": {},
   "outputs": [
    {
     "data": {
      "text/plain": [
       "LinearRegression()"
      ]
     },
     "execution_count": 16,
     "metadata": {},
     "output_type": "execute_result"
    }
   ],
   "source": [
    "#Fit\n",
    "model_second.fit(X,y)"
   ]
  },
  {
   "cell_type": "markdown",
   "id": "7543f776",
   "metadata": {},
   "source": [
    "## Make predictions"
   ]
  },
  {
   "cell_type": "code",
   "execution_count": 17,
   "id": "e94d770f",
   "metadata": {},
   "outputs": [],
   "source": [
    "#Predict\n",
    "pred_second = model_second.predict(X)"
   ]
  },
  {
   "cell_type": "code",
   "execution_count": 18,
   "id": "75a0dcca",
   "metadata": {},
   "outputs": [
    {
     "data": {
      "text/html": [
       "<div>\n",
       "<style scoped>\n",
       "    .dataframe tbody tr th:only-of-type {\n",
       "        vertical-align: middle;\n",
       "    }\n",
       "\n",
       "    .dataframe tbody tr th {\n",
       "        vertical-align: top;\n",
       "    }\n",
       "\n",
       "    .dataframe thead th {\n",
       "        text-align: right;\n",
       "    }\n",
       "</style>\n",
       "<table border=\"1\" class=\"dataframe\">\n",
       "  <thead>\n",
       "    <tr style=\"text-align: right;\">\n",
       "      <th></th>\n",
       "      <th>pred_val</th>\n",
       "      <th>real_val</th>\n",
       "    </tr>\n",
       "  </thead>\n",
       "  <tbody>\n",
       "    <tr>\n",
       "      <th>0</th>\n",
       "      <td>22.211516</td>\n",
       "      <td>18.0</td>\n",
       "    </tr>\n",
       "    <tr>\n",
       "      <th>1</th>\n",
       "      <td>10.029300</td>\n",
       "      <td>9.0</td>\n",
       "    </tr>\n",
       "    <tr>\n",
       "      <th>2</th>\n",
       "      <td>32.451308</td>\n",
       "      <td>36.1</td>\n",
       "    </tr>\n",
       "    <tr>\n",
       "      <th>3</th>\n",
       "      <td>19.259642</td>\n",
       "      <td>18.5</td>\n",
       "    </tr>\n",
       "    <tr>\n",
       "      <th>4</th>\n",
       "      <td>29.484139</td>\n",
       "      <td>34.3</td>\n",
       "    </tr>\n",
       "    <tr>\n",
       "      <th>5</th>\n",
       "      <td>26.218724</td>\n",
       "      <td>32.9</td>\n",
       "    </tr>\n",
       "    <tr>\n",
       "      <th>6</th>\n",
       "      <td>28.895294</td>\n",
       "      <td>32.2</td>\n",
       "    </tr>\n",
       "    <tr>\n",
       "      <th>7</th>\n",
       "      <td>27.014047</td>\n",
       "      <td>22.0</td>\n",
       "    </tr>\n",
       "    <tr>\n",
       "      <th>8</th>\n",
       "      <td>13.371188</td>\n",
       "      <td>15.0</td>\n",
       "    </tr>\n",
       "    <tr>\n",
       "      <th>9</th>\n",
       "      <td>19.840840</td>\n",
       "      <td>17.0</td>\n",
       "    </tr>\n",
       "  </tbody>\n",
       "</table>\n",
       "</div>"
      ],
      "text/plain": [
       "    pred_val  real_val\n",
       "0  22.211516      18.0\n",
       "1  10.029300       9.0\n",
       "2  32.451308      36.1\n",
       "3  19.259642      18.5\n",
       "4  29.484139      34.3\n",
       "5  26.218724      32.9\n",
       "6  28.895294      32.2\n",
       "7  27.014047      22.0\n",
       "8  13.371188      15.0\n",
       "9  19.840840      17.0"
      ]
     },
     "execution_count": 18,
     "metadata": {},
     "output_type": "execute_result"
    }
   ],
   "source": [
    "#Predictions vs. real values in a data frame\n",
    "pred_second_df = pd.DataFrame({\"pred_val\":pred_second,\"real_val\":y})\n",
    "pred_second_df.head(10)"
   ]
  },
  {
   "cell_type": "code",
   "execution_count": 19,
   "id": "c6a19ffb",
   "metadata": {},
   "outputs": [
    {
     "data": {
      "image/png": "[encoded data removed]",
      "text/plain": [
       "<Figure size 432x288 with 1 Axes>"
      ]
     },
     "metadata": {
      "needs_background": "light"
     },
     "output_type": "display_data"
    }
   ],
   "source": [
    "#Visualizing the results\n",
    "sns.scatterplot(x=\"pred_val\",y=\"real_val\",data=pred_second_df,ci=None)\n",
    "plt.show()"
   ]
  },
  {
   "cell_type": "markdown",
   "id": "a8da93c2",
   "metadata": {},
   "source": [
    "This looks quite nice. The data points are positioned tightly. Our predictions did not stray away from real values that much."
   ]
  },
  {
   "cell_type": "markdown",
   "id": "7172cce0",
   "metadata": {},
   "source": [
    "# What's next?"
   ]
  },
  {
   "cell_type": "markdown",
   "id": "106a7416",
   "metadata": {},
   "source": [
    "In the following chapter, we will see how we can use linear regression models with more than one X variable."
   ]
  }
 ],
 "metadata": {
  "kernelspec": {
   "display_name": "Python 3 (ipykernel)",
   "language": "python",
   "name": "python3"
  },
  "language_info": {
   "codemirror_mode": {
    "name": "ipython",
    "version": 3
   },
   "file_extension": ".py",
   "mimetype": "text/x-python",
   "name": "python",
   "nbconvert_exporter": "python",
   "pygments_lexer": "ipython3",
   "version": "3.9.12"
  }
 },
 "nbformat": 4,
 "nbformat_minor": 5
}
