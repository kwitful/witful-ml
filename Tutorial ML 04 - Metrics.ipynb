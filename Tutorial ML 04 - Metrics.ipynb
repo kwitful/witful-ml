{
 "cells": [
  {
   "cell_type": "markdown",
   "id": "decebfea",
   "metadata": {},
   "source": [
    "# Witful ML 04 - Model Evaluation for Linear Regression\n",
    "by Kaan Kabalak, Editor In Chief @ witfuldata.com"
   ]
  },
  {
   "cell_type": "markdown",
   "id": "0ac90119",
   "metadata": {},
   "source": [
    "# Introduction"
   ]
  },
  {
   "cell_type": "markdown",
   "id": "c0843ed4",
   "metadata": {},
   "source": [
    "Welcome to another chapter of Witful ML.\n",
    "\n",
    "We have so far seen how to get an idea about how well our model performed. Yet, there ways which are much more reliable.\n",
    "\n",
    "In this chapter we will learn about R2 (r-squared), MSE (mean squared error) and how these metrics measure model performance."
   ]
  },
  {
   "cell_type": "markdown",
   "id": "2501876e",
   "metadata": {},
   "source": [
    "## Importing & Data Frame "
   ]
  },
  {
   "cell_type": "code",
   "execution_count": 1,
   "id": "069f74f3",
   "metadata": {},
   "outputs": [],
   "source": [
    "#Importing\n",
    "import numpy as np\n",
    "import matplotlib.pyplot as plt\n",
    "import pandas as pd\n",
    "import seaborn as sns\n",
    "from sklearn.linear_model import LinearRegression\n",
    "from sklearn.metrics import mean_squared_error"
   ]
  },
  {
   "cell_type": "code",
   "execution_count": 2,
   "id": "2e4e652d",
   "metadata": {},
   "outputs": [
    {
     "data": {
      "text/html": [
       "<div>\n",
       "<style scoped>\n",
       "    .dataframe tbody tr th:only-of-type {\n",
       "        vertical-align: middle;\n",
       "    }\n",
       "\n",
       "    .dataframe tbody tr th {\n",
       "        vertical-align: top;\n",
       "    }\n",
       "\n",
       "    .dataframe thead th {\n",
       "        text-align: right;\n",
       "    }\n",
       "</style>\n",
       "<table border=\"1\" class=\"dataframe\">\n",
       "  <thead>\n",
       "    <tr style=\"text-align: right;\">\n",
       "      <th></th>\n",
       "      <th>mpg</th>\n",
       "      <th>displ</th>\n",
       "      <th>hp</th>\n",
       "      <th>weight</th>\n",
       "      <th>accel</th>\n",
       "      <th>origin</th>\n",
       "      <th>size</th>\n",
       "    </tr>\n",
       "  </thead>\n",
       "  <tbody>\n",
       "    <tr>\n",
       "      <th>0</th>\n",
       "      <td>18.0</td>\n",
       "      <td>250.0</td>\n",
       "      <td>88</td>\n",
       "      <td>3139</td>\n",
       "      <td>14.5</td>\n",
       "      <td>US</td>\n",
       "      <td>15.0</td>\n",
       "    </tr>\n",
       "    <tr>\n",
       "      <th>1</th>\n",
       "      <td>9.0</td>\n",
       "      <td>304.0</td>\n",
       "      <td>193</td>\n",
       "      <td>4732</td>\n",
       "      <td>18.5</td>\n",
       "      <td>US</td>\n",
       "      <td>20.0</td>\n",
       "    </tr>\n",
       "    <tr>\n",
       "      <th>2</th>\n",
       "      <td>36.1</td>\n",
       "      <td>91.0</td>\n",
       "      <td>60</td>\n",
       "      <td>1800</td>\n",
       "      <td>16.4</td>\n",
       "      <td>Asia</td>\n",
       "      <td>10.0</td>\n",
       "    </tr>\n",
       "    <tr>\n",
       "      <th>3</th>\n",
       "      <td>18.5</td>\n",
       "      <td>250.0</td>\n",
       "      <td>98</td>\n",
       "      <td>3525</td>\n",
       "      <td>19.0</td>\n",
       "      <td>US</td>\n",
       "      <td>15.0</td>\n",
       "    </tr>\n",
       "    <tr>\n",
       "      <th>4</th>\n",
       "      <td>34.3</td>\n",
       "      <td>97.0</td>\n",
       "      <td>78</td>\n",
       "      <td>2188</td>\n",
       "      <td>15.8</td>\n",
       "      <td>Europe</td>\n",
       "      <td>10.0</td>\n",
       "    </tr>\n",
       "  </tbody>\n",
       "</table>\n",
       "</div>"
      ],
      "text/plain": [
       "    mpg  displ   hp  weight  accel  origin  size\n",
       "0  18.0  250.0   88    3139   14.5      US  15.0\n",
       "1   9.0  304.0  193    4732   18.5      US  20.0\n",
       "2  36.1   91.0   60    1800   16.4    Asia  10.0\n",
       "3  18.5  250.0   98    3525   19.0      US  15.0\n",
       "4  34.3   97.0   78    2188   15.8  Europe  10.0"
      ]
     },
     "execution_count": 2,
     "metadata": {},
     "output_type": "execute_result"
    }
   ],
   "source": [
    "#Form a data frame\n",
    "auto_df = pd.read_csv(\"auto.csv\")\n",
    "auto_df.head(5)"
   ]
  },
  {
   "cell_type": "markdown",
   "id": "67d70354",
   "metadata": {},
   "source": [
    "## Instantiating, fitting and predictions"
   ]
  },
  {
   "cell_type": "code",
   "execution_count": 3,
   "id": "feb34146",
   "metadata": {},
   "outputs": [],
   "source": [
    "#X and y values\n",
    "X = auto_df.drop(['mpg','origin'],axis=1).values\n",
    "y = auto_df[\"mpg\"].values\n",
    "\n",
    "#Insantiating the model\n",
    "lin_model = LinearRegression()\n",
    "\n",
    "#Fitting the model\n",
    "lin_model.fit(X,y)\n",
    "\n",
    "#Predict\n",
    "pred = lin_model.predict(X)"
   ]
  },
  {
   "cell_type": "markdown",
   "id": "ccf359ba",
   "metadata": {},
   "source": [
    "# R2 (R-squared)"
   ]
  },
  {
   "cell_type": "markdown",
   "id": "076ca538",
   "metadata": {},
   "source": [
    "R-squared is basically a metric that shows us how well our model's X values (and the regression line which was drawn in accordance with them) explains the variance of the target variable (y). It also shows us how better the regression line performs when compared to just drawing a line with the mean and trying to predict new data points that way.\n",
    "\n",
    "The math formula for R2 is:\n",
    "(var(mean)-var(line))/var(mean)\n",
    "\n",
    "* var(mean) is the variation of the data points around a line that was drawn with the mean\n",
    "* var (line) is the variation of the data points around the regression line. If our regline was drawn well enough, the data points around it won't have strayed far away; they will have a lower variation. So, less var(line) is better than more.\n",
    "\n",
    "The closer R2 gets to 1, the better."
   ]
  },
  {
   "cell_type": "markdown",
   "id": "c4e9f740",
   "metadata": {},
   "source": [
    "## R2, visually explained"
   ]
  },
  {
   "cell_type": "markdown",
   "id": "a674612f",
   "metadata": {},
   "source": [
    "I would like to explain R2, visually, through a model which uses car weight data to predict mpg(miles per gallon)."
   ]
  },
  {
   "cell_type": "code",
   "execution_count": 4,
   "id": "f4b958bd",
   "metadata": {},
   "outputs": [
    {
     "data": {
      "image/png": "[encoded data removed]",
      "text/plain": [
       "<Figure size 432x288 with 1 Axes>"
      ]
     },
     "metadata": {
      "needs_background": "light"
     },
     "output_type": "display_data"
    }
   ],
   "source": [
    "sns.regplot(x=\"weight\",y=\"mpg\",data=auto_df,ci=None,line_kws={\"color\":\"red\"})#Red regression line\n",
    "plt.axhline(y=np.nanmean(auto_df.mpg),color=\"black\")#Drawing a line with the mean of y\n",
    "plt.xlabel(\"Car weight\")\n",
    "plt.ylabel(\"Miles per gallon (mpg)\")\n",
    "plt.show()"
   ]
  },
  {
   "cell_type": "markdown",
   "id": "c5155345",
   "metadata": {},
   "source": [
    "* The blue dots are the data points (x,y)\n",
    "* The red line is a regression line\n",
    "* The black line is the mean of y (mpg)\n",
    "* In this visual, the distance between the blue dots and the black line stand for var(mean)\n",
    "* In this visual, the distance between the blue dots and the red line stand for var(line)\n",
    "\n",
    "Var(line) will be less than var(mean). This makes sense, right? The regression line is much closer to the data points than the mean line. That's actually one of the reasons why we go through all these processes to build a linear regression model. We want to have something that can predict y better than just using the mean. \n"
   ]
  },
  {
   "cell_type": "markdown",
   "id": "a5d288d9",
   "metadata": {},
   "source": [
    "## Calculating R2 for our model"
   ]
  },
  {
   "cell_type": "markdown",
   "id": "dcebaf48",
   "metadata": {},
   "source": [
    "Sklearn's linear regression model has a .score method which prints out the R2 score:"
   ]
  },
  {
   "cell_type": "code",
   "execution_count": 5,
   "id": "fc8db4c2",
   "metadata": {},
   "outputs": [
    {
     "data": {
      "text/plain": [
       "0.7076926326770516"
      ]
     },
     "execution_count": 5,
     "metadata": {},
     "output_type": "execute_result"
    }
   ],
   "source": [
    "#R2\n",
    "lin_model.score(X,y)"
   ]
  },
  {
   "cell_type": "markdown",
   "id": "7f385c8e",
   "metadata": {},
   "source": [
    "This means that our regression model's line has around %70 percent less variation than a line which was drawn with the mean, which means that it is much better when it comes to following the data points. Thus, it predicts new values more efficiently when compared to a mean line."
   ]
  },
  {
   "cell_type": "markdown",
   "id": "0f05c6cf",
   "metadata": {},
   "source": [
    "## Mean Squared Error (MSE)\n",
    "\n",
    "Meand squared error basically maps out the difference between the predicted and real values. In a way, it gives us an idea about the mistakes made by the model. \n",
    "\n",
    "The math formula goes like this:\n",
    "MSE = ((y-y^)**2)/n\n",
    "\n",
    "* y is the real value\n",
    "* y^ is the predicted value\n",
    "* n is the number of observations(rows)\n",
    "\n",
    "We take the square of that difference. Why?\n",
    "\n",
    "Because the predicted values can be less or more than the real value. This will cause some differences to be positive (+) while making some of them negative(-). If you try to take it as it is, the positive and the negative values will negate each other. To prevent this from happening, we take the square of the difference. When you take the square of a negative(-), it will become positive. The differences won't negate each other when calculated this way.\n",
    "\n",
    "After we calculate the MSE, we should take its root value to make sure that it does not overscale when compared to our data's mean. The resulting metric point is called RMSE (root mean squared error). "
   ]
  },
  {
   "cell_type": "markdown",
   "id": "cea46e07",
   "metadata": {},
   "source": [
    "## MSE & RMSE for our model"
   ]
  },
  {
   "cell_type": "markdown",
   "id": "8f44537d",
   "metadata": {},
   "source": [
    "In sklearn, MSE is calculated as follows:"
   ]
  },
  {
   "cell_type": "code",
   "execution_count": 6,
   "id": "36a355df",
   "metadata": {},
   "outputs": [
    {
     "data": {
      "text/plain": [
       "17.761396105406217"
      ]
     },
     "execution_count": 6,
     "metadata": {},
     "output_type": "execute_result"
    }
   ],
   "source": [
    "#MSE\n",
    "lin_mse = mean_squared_error(y,pred)# real y as the first and the predicted y as the second arg.\n",
    "lin_mse"
   ]
  },
  {
   "cell_type": "markdown",
   "id": "ab76520d",
   "metadata": {},
   "source": [
    "There are two ways to get RMSE. The first one with NumPy:"
   ]
  },
  {
   "cell_type": "code",
   "execution_count": 7,
   "id": "c8eb8c59",
   "metadata": {},
   "outputs": [
    {
     "data": {
      "text/plain": [
       "4.214427138462145"
      ]
     },
     "execution_count": 7,
     "metadata": {},
     "output_type": "execute_result"
    }
   ],
   "source": [
    "#RMSE-NumPy\n",
    "rmse_one = np.sqrt(lin_mse)\n",
    "rmse_one"
   ]
  },
  {
   "cell_type": "markdown",
   "id": "b32ed8e6",
   "metadata": {},
   "source": [
    "The second one with sklearn's mse function, with squared=Bool set to False:"
   ]
  },
  {
   "cell_type": "code",
   "execution_count": 8,
   "id": "9c1e7433",
   "metadata": {},
   "outputs": [
    {
     "data": {
      "text/plain": [
       "4.214427138462145"
      ]
     },
     "execution_count": 8,
     "metadata": {},
     "output_type": "execute_result"
    }
   ],
   "source": [
    "#RMSE-2\n",
    "rmse_two = mean_squared_error(y,pred,squared=False)\n",
    "rmse_two"
   ]
  },
  {
   "cell_type": "markdown",
   "id": "cf59b34c",
   "metadata": {},
   "source": [
    "As you can see, they both give out the same result. It's 4.214427138462145. RMSE is in target units. This means that our model's average error is around 4 mpg when it's predicting the mpg performance of the cars."
   ]
  },
  {
   "cell_type": "markdown",
   "id": "706910db",
   "metadata": {},
   "source": [
    "Now, let's compare the RMSE to our y (target) variable's mean to have a better understanding of how significant this error is."
   ]
  },
  {
   "cell_type": "code",
   "execution_count": 9,
   "id": "8007312a",
   "metadata": {},
   "outputs": [
    {
     "name": "stdout",
     "output_type": "stream",
     "text": [
      "0.179750994285281\n"
     ]
    }
   ],
   "source": [
    "print(rmse_two/auto_df.mpg.mean())"
   ]
  },
  {
   "cell_type": "markdown",
   "id": "782225b1",
   "metadata": {},
   "source": [
    "The error accounts for %17 of the target variable's (mpg) mean. It could be better (the percentage could be smaller), but it's not bad. Not bad at all. "
   ]
  }
 ],
 "metadata": {
  "kernelspec": {
   "display_name": "Python 3 (ipykernel)",
   "language": "python",
   "name": "python3"
  },
  "language_info": {
   "codemirror_mode": {
    "name": "ipython",
    "version": 3
   },
   "file_extension": ".py",
   "mimetype": "text/x-python",
   "name": "python",
   "nbconvert_exporter": "python",
   "pygments_lexer": "ipython3",
   "version": "3.9.12"
  }
 },
 "nbformat": 4,
 "nbformat_minor": 5
}
